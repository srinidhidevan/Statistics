{
 "cells": [
  {
   "cell_type": "markdown",
   "metadata": {},
   "source": [
    "# Problem 1\n",
    "A wholesale distributor operating in different regions of Portugal has information on annual spending of several items in their stores across different regions and channels. The data (Wholesale Customer.csv) consists of 440 large retailers’ annual spending on 6 different varieties of products in 3 different regions (Lisbon, Oporto, Other) and across different sales channel (Hotel, Retail).\n",
    "\n",
    "1.1. Use methods of descriptive statistics to summarize data.\n",
    "Which Region and which Channel seems to spend more?\n",
    "Which Region and which Channel seems to spend less?\n",
    "\n",
    "1.2. There are 6 different varieties of items are considered.\n",
    "Do all varieties show similar behaviour across Region and Channel?\n",
    "\n",
    "1.3. On the basis of the descriptive measure of variability, which item shows the most inconsistent behaviour?\n",
    "Which items shows the least inconsistent behaviour?\n",
    "\n",
    "1.4. Are there any outliers in the data?\n",
    "\n",
    "1.5. On the basis of this report, what are the recommendations?"
   ]
  },
  {
   "cell_type": "markdown",
   "metadata": {},
   "source": [
    "### About  the Wholesale Data :\n",
    "\n",
    "1) Channel (Nominal) : Retail or Hotel \n",
    "\n",
    "2) Region (Nominal) : Oporto or Lisbon or Other\n",
    "\n",
    "3) Fresh (Continuous) : Annual spending on fresh products\n",
    "\n",
    "4) Milk (Continuous) : Annual spending on milk products \n",
    "\n",
    "5) Grocery (Continuous) : Annual spending on grocery products\n",
    "\n",
    "6) Frozen (Continuous) : Annual spending on frozen products \n",
    "\n",
    "7) Detergents_Paper (Continuous) : Annual spending on detergents and paper products \n",
    "\n",
    "8) Delicatessen (Continuous) : Annual spending on delicatessen products "
   ]
  },
  {
   "cell_type": "code",
   "execution_count": 1,
   "metadata": {},
   "outputs": [],
   "source": [
    "#Loading the necessary libraries\n",
    "import numpy as np\n",
    "import pandas as pd\n",
    "import os\n",
    "import seaborn as sns   \n",
    "import matplotlib.pyplot as plt\n",
    "sns.set(color_codes=True) \n",
    "%matplotlib inline\n",
    "import scipy.stats as stats\n",
    "from scipy.stats import ttest_1samp, ttest_ind\n",
    "from statsmodels.stats.power import ttest_power\n",
    "from statsmodels.stats import weightstats as stests"
   ]
  },
  {
   "cell_type": "code",
   "execution_count": 2,
   "metadata": {},
   "outputs": [],
   "source": [
    "#Loading 'Wholesale' data\n",
    "data=pd.read_csv('Wholesale Customer.csv')"
   ]
  },
  {
   "cell_type": "markdown",
   "metadata": {},
   "source": [
    "## 1.1.  Use methods of descriptive statistics to summarize data"
   ]
  },
  {
   "cell_type": "code",
   "execution_count": 3,
   "metadata": {
    "scrolled": true
   },
   "outputs": [
    {
     "data": {
      "text/html": [
       "<div>\n",
       "<style scoped>\n",
       "    .dataframe tbody tr th:only-of-type {\n",
       "        vertical-align: middle;\n",
       "    }\n",
       "\n",
       "    .dataframe tbody tr th {\n",
       "        vertical-align: top;\n",
       "    }\n",
       "\n",
       "    .dataframe thead th {\n",
       "        text-align: right;\n",
       "    }\n",
       "</style>\n",
       "<table border=\"1\" class=\"dataframe\">\n",
       "  <thead>\n",
       "    <tr style=\"text-align: right;\">\n",
       "      <th></th>\n",
       "      <th>count</th>\n",
       "      <th>mean</th>\n",
       "      <th>std</th>\n",
       "      <th>min</th>\n",
       "      <th>25%</th>\n",
       "      <th>50%</th>\n",
       "      <th>75%</th>\n",
       "      <th>max</th>\n",
       "    </tr>\n",
       "  </thead>\n",
       "  <tbody>\n",
       "    <tr>\n",
       "      <th>Fresh</th>\n",
       "      <td>440.0</td>\n",
       "      <td>12000.297727</td>\n",
       "      <td>12647.328865</td>\n",
       "      <td>3.0</td>\n",
       "      <td>3127.75</td>\n",
       "      <td>8504.0</td>\n",
       "      <td>16933.75</td>\n",
       "      <td>112151.0</td>\n",
       "    </tr>\n",
       "    <tr>\n",
       "      <th>Milk</th>\n",
       "      <td>440.0</td>\n",
       "      <td>5796.265909</td>\n",
       "      <td>7380.377175</td>\n",
       "      <td>55.0</td>\n",
       "      <td>1533.00</td>\n",
       "      <td>3627.0</td>\n",
       "      <td>7190.25</td>\n",
       "      <td>73498.0</td>\n",
       "    </tr>\n",
       "    <tr>\n",
       "      <th>Grocery</th>\n",
       "      <td>440.0</td>\n",
       "      <td>7951.277273</td>\n",
       "      <td>9503.162829</td>\n",
       "      <td>3.0</td>\n",
       "      <td>2153.00</td>\n",
       "      <td>4755.5</td>\n",
       "      <td>10655.75</td>\n",
       "      <td>92780.0</td>\n",
       "    </tr>\n",
       "    <tr>\n",
       "      <th>Frozen</th>\n",
       "      <td>440.0</td>\n",
       "      <td>3071.931818</td>\n",
       "      <td>4854.673333</td>\n",
       "      <td>25.0</td>\n",
       "      <td>742.25</td>\n",
       "      <td>1526.0</td>\n",
       "      <td>3554.25</td>\n",
       "      <td>60869.0</td>\n",
       "    </tr>\n",
       "    <tr>\n",
       "      <th>Detergents_Paper</th>\n",
       "      <td>440.0</td>\n",
       "      <td>2881.493182</td>\n",
       "      <td>4767.854448</td>\n",
       "      <td>3.0</td>\n",
       "      <td>256.75</td>\n",
       "      <td>816.5</td>\n",
       "      <td>3922.00</td>\n",
       "      <td>40827.0</td>\n",
       "    </tr>\n",
       "    <tr>\n",
       "      <th>Delicatessen</th>\n",
       "      <td>440.0</td>\n",
       "      <td>1524.870455</td>\n",
       "      <td>2820.105937</td>\n",
       "      <td>3.0</td>\n",
       "      <td>408.25</td>\n",
       "      <td>965.5</td>\n",
       "      <td>1820.25</td>\n",
       "      <td>47943.0</td>\n",
       "    </tr>\n",
       "  </tbody>\n",
       "</table>\n",
       "</div>"
      ],
      "text/plain": [
       "                  count          mean           std   min      25%     50%  \\\n",
       "Fresh             440.0  12000.297727  12647.328865   3.0  3127.75  8504.0   \n",
       "Milk              440.0   5796.265909   7380.377175  55.0  1533.00  3627.0   \n",
       "Grocery           440.0   7951.277273   9503.162829   3.0  2153.00  4755.5   \n",
       "Frozen            440.0   3071.931818   4854.673333  25.0   742.25  1526.0   \n",
       "Detergents_Paper  440.0   2881.493182   4767.854448   3.0   256.75   816.5   \n",
       "Delicatessen      440.0   1524.870455   2820.105937   3.0   408.25   965.5   \n",
       "\n",
       "                       75%       max  \n",
       "Fresh             16933.75  112151.0  \n",
       "Milk               7190.25   73498.0  \n",
       "Grocery           10655.75   92780.0  \n",
       "Frozen             3554.25   60869.0  \n",
       "Detergents_Paper   3922.00   40827.0  \n",
       "Delicatessen       1820.25   47943.0  "
      ]
     },
     "execution_count": 3,
     "metadata": {},
     "output_type": "execute_result"
    }
   ],
   "source": [
    "#Descriptive Statistics of the dataset:\n",
    "data_df=data.drop(['Buyer/Spender'],axis=1)\n",
    "data_df\n",
    "data_df.describe().transpose()\n",
    "\n",
    "#Count- As we can see from the below output, each variable contains 440 data points\n",
    "\n",
    "#Mean- This is highly affected by outliers; As observed, the average spending for 'Fresh' product is the highest and 'Delicatessen' product is the lowest\n",
    "\n",
    "#Standard Deviation- It shows us how the data points are spread across the mean; Smaller the value, closer is the data point to mean and more consistent and vice versa\n",
    "#'Fresh' products seems to have the highest standard deviation and 'Delicatessen' products have the lowest standard deviation\n",
    "\n",
    "#Median- Shows us the 50th percentile of the dataset and is the least affected by the outlier\n",
    "\n",
    "#Min and Max- Shows the smallest and the largest values of the dataset\n",
    "#From the output, we can see that the minimum and maximum are quite far away from each other"
   ]
  },
  {
   "cell_type": "markdown",
   "metadata": {},
   "source": [
    "## 1.1.  Which Region and which Channel seems to spend more?\n",
    "##         Which Region and which Channel seems to spend less?"
   ]
  },
  {
   "cell_type": "code",
   "execution_count": 4,
   "metadata": {
    "scrolled": true
   },
   "outputs": [
    {
     "name": "stderr",
     "output_type": "stream",
     "text": [
      "C:\\Users\\Srinidhi Devan\\anaconda3\\lib\\site-packages\\ipykernel_launcher.py:2: FutureWarning: Indexing with multiple keys (implicitly converted to a tuple of keys) will be deprecated, use a list instead.\n",
      "  \n"
     ]
    },
    {
     "data": {
      "text/html": [
       "<div>\n",
       "<style scoped>\n",
       "    .dataframe tbody tr th:only-of-type {\n",
       "        vertical-align: middle;\n",
       "    }\n",
       "\n",
       "    .dataframe tbody tr th {\n",
       "        vertical-align: top;\n",
       "    }\n",
       "\n",
       "    .dataframe thead th {\n",
       "        text-align: right;\n",
       "    }\n",
       "</style>\n",
       "<table border=\"1\" class=\"dataframe\">\n",
       "  <thead>\n",
       "    <tr style=\"text-align: right;\">\n",
       "      <th></th>\n",
       "      <th></th>\n",
       "      <th>Fresh</th>\n",
       "      <th>Milk</th>\n",
       "      <th>Grocery</th>\n",
       "      <th>Frozen</th>\n",
       "      <th>Detergents_Paper</th>\n",
       "      <th>Delicatessen</th>\n",
       "    </tr>\n",
       "    <tr>\n",
       "      <th>Channel</th>\n",
       "      <th>Region</th>\n",
       "      <th></th>\n",
       "      <th></th>\n",
       "      <th></th>\n",
       "      <th></th>\n",
       "      <th></th>\n",
       "      <th></th>\n",
       "    </tr>\n",
       "  </thead>\n",
       "  <tbody>\n",
       "    <tr>\n",
       "      <th rowspan=\"3\" valign=\"top\">Hotel</th>\n",
       "      <th>Lisbon</th>\n",
       "      <td>761233</td>\n",
       "      <td>228342</td>\n",
       "      <td>237542</td>\n",
       "      <td>184512</td>\n",
       "      <td>56081</td>\n",
       "      <td>70632</td>\n",
       "    </tr>\n",
       "    <tr>\n",
       "      <th>Oporto</th>\n",
       "      <td>326215</td>\n",
       "      <td>64519</td>\n",
       "      <td>123074</td>\n",
       "      <td>160861</td>\n",
       "      <td>13516</td>\n",
       "      <td>30965</td>\n",
       "    </tr>\n",
       "    <tr>\n",
       "      <th>Other</th>\n",
       "      <td>2928269</td>\n",
       "      <td>735753</td>\n",
       "      <td>820101</td>\n",
       "      <td>771606</td>\n",
       "      <td>165990</td>\n",
       "      <td>320358</td>\n",
       "    </tr>\n",
       "    <tr>\n",
       "      <th rowspan=\"3\" valign=\"top\">Retail</th>\n",
       "      <th>Lisbon</th>\n",
       "      <td>93600</td>\n",
       "      <td>194112</td>\n",
       "      <td>332495</td>\n",
       "      <td>46514</td>\n",
       "      <td>148055</td>\n",
       "      <td>33695</td>\n",
       "    </tr>\n",
       "    <tr>\n",
       "      <th>Oporto</th>\n",
       "      <td>138506</td>\n",
       "      <td>174625</td>\n",
       "      <td>310200</td>\n",
       "      <td>29271</td>\n",
       "      <td>159795</td>\n",
       "      <td>23541</td>\n",
       "    </tr>\n",
       "    <tr>\n",
       "      <th>Other</th>\n",
       "      <td>1032308</td>\n",
       "      <td>1153006</td>\n",
       "      <td>1675150</td>\n",
       "      <td>158886</td>\n",
       "      <td>724420</td>\n",
       "      <td>191752</td>\n",
       "    </tr>\n",
       "  </tbody>\n",
       "</table>\n",
       "</div>"
      ],
      "text/plain": [
       "                  Fresh     Milk  Grocery  Frozen  Detergents_Paper  \\\n",
       "Channel Region                                                        \n",
       "Hotel   Lisbon   761233   228342   237542  184512             56081   \n",
       "        Oporto   326215    64519   123074  160861             13516   \n",
       "        Other   2928269   735753   820101  771606            165990   \n",
       "Retail  Lisbon    93600   194112   332495   46514            148055   \n",
       "        Oporto   138506   174625   310200   29271            159795   \n",
       "        Other   1032308  1153006  1675150  158886            724420   \n",
       "\n",
       "                Delicatessen  \n",
       "Channel Region                \n",
       "Hotel   Lisbon         70632  \n",
       "        Oporto         30965  \n",
       "        Other         320358  \n",
       "Retail  Lisbon         33695  \n",
       "        Oporto         23541  \n",
       "        Other         191752  "
      ]
     },
     "execution_count": 4,
     "metadata": {},
     "output_type": "execute_result"
    }
   ],
   "source": [
    "#Grouping the data by 'Channel' and 'Region' with respect to 'Items' and summing them across\n",
    "data_df_1_a=data.groupby(['Channel','Region'])['Fresh','Milk','Grocery','Frozen','Detergents_Paper','Delicatessen'].sum()\n",
    "data_df_1_a"
   ]
  },
  {
   "cell_type": "code",
   "execution_count": 5,
   "metadata": {},
   "outputs": [],
   "source": [
    "#Now summing all 6 items together\n",
    "sum_data_df_1_a=data_df_1_a.sum(axis=1)"
   ]
  },
  {
   "cell_type": "code",
   "execution_count": 6,
   "metadata": {},
   "outputs": [
    {
     "data": {
      "text/plain": [
       "Channel  Region\n",
       "Hotel    Other     5742077\n",
       "Retail   Other     4935522\n",
       "Hotel    Lisbon    1538342\n",
       "Retail   Lisbon     848471\n",
       "         Oporto     835938\n",
       "Hotel    Oporto     719150\n",
       "dtype: int64"
      ]
     },
     "execution_count": 6,
     "metadata": {},
     "output_type": "execute_result"
    }
   ],
   "source": [
    "#sorting the summed up values and arranging them in descending order\n",
    "sum_data_df_1_a.sort_values(ascending=False)"
   ]
  },
  {
   "cell_type": "code",
   "execution_count": 7,
   "metadata": {},
   "outputs": [
    {
     "data": {
      "text/plain": [
       "Channel  Region\n",
       "Hotel    Other     5742077\n",
       "dtype: int64"
      ]
     },
     "execution_count": 7,
     "metadata": {},
     "output_type": "execute_result"
    }
   ],
   "source": [
    "#To get the maximum value from the summed up ('sum_data_df_1_a') values\n",
    "sum_data_df_1_a.sort_values(ascending=False).head(1)\n",
    "#From this we see that 'Hotel' (Channel) and 'Other' (Region) spends the MOST"
   ]
  },
  {
   "cell_type": "code",
   "execution_count": 8,
   "metadata": {},
   "outputs": [
    {
     "data": {
      "text/plain": [
       "Channel  Region\n",
       "Hotel    Oporto    719150\n",
       "dtype: int64"
      ]
     },
     "execution_count": 8,
     "metadata": {},
     "output_type": "execute_result"
    }
   ],
   "source": [
    "#To get the minimum value from the summed up ('sum_data_df_1_a') values\n",
    "sum_data_df_1_a.sort_values(ascending=True).head(1)\n",
    "#From this we see that 'Hotel' (Channel) and 'Oporto' (Region) spends the LEAST"
   ]
  },
  {
   "cell_type": "markdown",
   "metadata": {},
   "source": [
    "## 1.2. There are 6 different varieties of items are considered. Do all varieties show similar behaviour across Region and Channel?"
   ]
  },
  {
   "cell_type": "code",
   "execution_count": 9,
   "metadata": {
    "scrolled": true
   },
   "outputs": [
    {
     "name": "stderr",
     "output_type": "stream",
     "text": [
      "C:\\Users\\Srinidhi Devan\\anaconda3\\lib\\site-packages\\ipykernel_launcher.py:1: FutureWarning: Indexing with multiple keys (implicitly converted to a tuple of keys) will be deprecated, use a list instead.\n",
      "  \"\"\"Entry point for launching an IPython kernel.\n"
     ]
    },
    {
     "data": {
      "text/html": [
       "<div>\n",
       "<style scoped>\n",
       "    .dataframe tbody tr th:only-of-type {\n",
       "        vertical-align: middle;\n",
       "    }\n",
       "\n",
       "    .dataframe tbody tr th {\n",
       "        vertical-align: top;\n",
       "    }\n",
       "\n",
       "    .dataframe thead th {\n",
       "        text-align: right;\n",
       "    }\n",
       "</style>\n",
       "<table border=\"1\" class=\"dataframe\">\n",
       "  <thead>\n",
       "    <tr style=\"text-align: right;\">\n",
       "      <th></th>\n",
       "      <th>Fresh</th>\n",
       "      <th>Milk</th>\n",
       "      <th>Grocery</th>\n",
       "      <th>Frozen</th>\n",
       "      <th>Detergents_Paper</th>\n",
       "      <th>Delicatessen</th>\n",
       "    </tr>\n",
       "    <tr>\n",
       "      <th>Channel</th>\n",
       "      <th></th>\n",
       "      <th></th>\n",
       "      <th></th>\n",
       "      <th></th>\n",
       "      <th></th>\n",
       "      <th></th>\n",
       "    </tr>\n",
       "  </thead>\n",
       "  <tbody>\n",
       "    <tr>\n",
       "      <th>Hotel</th>\n",
       "      <td>4015717</td>\n",
       "      <td>1028614</td>\n",
       "      <td>1180717</td>\n",
       "      <td>1116979</td>\n",
       "      <td>235587</td>\n",
       "      <td>421955</td>\n",
       "    </tr>\n",
       "    <tr>\n",
       "      <th>Retail</th>\n",
       "      <td>1264414</td>\n",
       "      <td>1521743</td>\n",
       "      <td>2317845</td>\n",
       "      <td>234671</td>\n",
       "      <td>1032270</td>\n",
       "      <td>248988</td>\n",
       "    </tr>\n",
       "  </tbody>\n",
       "</table>\n",
       "</div>"
      ],
      "text/plain": [
       "           Fresh     Milk  Grocery   Frozen  Detergents_Paper  Delicatessen\n",
       "Channel                                                                    \n",
       "Hotel    4015717  1028614  1180717  1116979            235587        421955\n",
       "Retail   1264414  1521743  2317845   234671           1032270        248988"
      ]
     },
     "execution_count": 9,
     "metadata": {},
     "output_type": "execute_result"
    }
   ],
   "source": [
    "data_df_1_Channel=data_df.groupby(['Channel'])['Fresh','Milk','Grocery','Frozen','Detergents_Paper','Delicatessen']\n",
    "data_df_1_Channel.sum()"
   ]
  },
  {
   "cell_type": "code",
   "execution_count": 10,
   "metadata": {
    "scrolled": true
   },
   "outputs": [
    {
     "data": {
      "text/html": [
       "<div>\n",
       "<style scoped>\n",
       "    .dataframe tbody tr th:only-of-type {\n",
       "        vertical-align: middle;\n",
       "    }\n",
       "\n",
       "    .dataframe tbody tr th {\n",
       "        vertical-align: top;\n",
       "    }\n",
       "\n",
       "    .dataframe thead th {\n",
       "        text-align: right;\n",
       "    }\n",
       "</style>\n",
       "<table border=\"1\" class=\"dataframe\">\n",
       "  <thead>\n",
       "    <tr style=\"text-align: right;\">\n",
       "      <th></th>\n",
       "      <th>Channel</th>\n",
       "      <th>Hotel</th>\n",
       "      <th>Retail</th>\n",
       "    </tr>\n",
       "  </thead>\n",
       "  <tbody>\n",
       "    <tr>\n",
       "      <th rowspan=\"8\" valign=\"top\">Fresh</th>\n",
       "      <th>count</th>\n",
       "      <td>298.000000</td>\n",
       "      <td>142.000000</td>\n",
       "    </tr>\n",
       "    <tr>\n",
       "      <th>mean</th>\n",
       "      <td>13475.560403</td>\n",
       "      <td>8904.323944</td>\n",
       "    </tr>\n",
       "    <tr>\n",
       "      <th>std</th>\n",
       "      <td>13831.687502</td>\n",
       "      <td>8987.714750</td>\n",
       "    </tr>\n",
       "    <tr>\n",
       "      <th>min</th>\n",
       "      <td>3.000000</td>\n",
       "      <td>18.000000</td>\n",
       "    </tr>\n",
       "    <tr>\n",
       "      <th>25%</th>\n",
       "      <td>4070.250000</td>\n",
       "      <td>2347.750000</td>\n",
       "    </tr>\n",
       "    <tr>\n",
       "      <th>50%</th>\n",
       "      <td>9581.500000</td>\n",
       "      <td>5993.500000</td>\n",
       "    </tr>\n",
       "    <tr>\n",
       "      <th>75%</th>\n",
       "      <td>18274.750000</td>\n",
       "      <td>12229.750000</td>\n",
       "    </tr>\n",
       "    <tr>\n",
       "      <th>max</th>\n",
       "      <td>112151.000000</td>\n",
       "      <td>44466.000000</td>\n",
       "    </tr>\n",
       "    <tr>\n",
       "      <th rowspan=\"8\" valign=\"top\">Milk</th>\n",
       "      <th>count</th>\n",
       "      <td>298.000000</td>\n",
       "      <td>142.000000</td>\n",
       "    </tr>\n",
       "    <tr>\n",
       "      <th>mean</th>\n",
       "      <td>3451.724832</td>\n",
       "      <td>10716.500000</td>\n",
       "    </tr>\n",
       "    <tr>\n",
       "      <th>std</th>\n",
       "      <td>4352.165571</td>\n",
       "      <td>9679.631351</td>\n",
       "    </tr>\n",
       "    <tr>\n",
       "      <th>min</th>\n",
       "      <td>55.000000</td>\n",
       "      <td>928.000000</td>\n",
       "    </tr>\n",
       "    <tr>\n",
       "      <th>25%</th>\n",
       "      <td>1164.500000</td>\n",
       "      <td>5938.000000</td>\n",
       "    </tr>\n",
       "    <tr>\n",
       "      <th>50%</th>\n",
       "      <td>2157.000000</td>\n",
       "      <td>7812.000000</td>\n",
       "    </tr>\n",
       "    <tr>\n",
       "      <th>75%</th>\n",
       "      <td>4029.500000</td>\n",
       "      <td>12162.750000</td>\n",
       "    </tr>\n",
       "    <tr>\n",
       "      <th>max</th>\n",
       "      <td>43950.000000</td>\n",
       "      <td>73498.000000</td>\n",
       "    </tr>\n",
       "    <tr>\n",
       "      <th rowspan=\"8\" valign=\"top\">Grocery</th>\n",
       "      <th>count</th>\n",
       "      <td>298.000000</td>\n",
       "      <td>142.000000</td>\n",
       "    </tr>\n",
       "    <tr>\n",
       "      <th>mean</th>\n",
       "      <td>3962.137584</td>\n",
       "      <td>16322.852113</td>\n",
       "    </tr>\n",
       "    <tr>\n",
       "      <th>std</th>\n",
       "      <td>3545.513391</td>\n",
       "      <td>12267.318094</td>\n",
       "    </tr>\n",
       "    <tr>\n",
       "      <th>min</th>\n",
       "      <td>3.000000</td>\n",
       "      <td>2743.000000</td>\n",
       "    </tr>\n",
       "    <tr>\n",
       "      <th>25%</th>\n",
       "      <td>1703.750000</td>\n",
       "      <td>9245.250000</td>\n",
       "    </tr>\n",
       "    <tr>\n",
       "      <th>50%</th>\n",
       "      <td>2684.000000</td>\n",
       "      <td>12390.000000</td>\n",
       "    </tr>\n",
       "    <tr>\n",
       "      <th>75%</th>\n",
       "      <td>5076.750000</td>\n",
       "      <td>20183.500000</td>\n",
       "    </tr>\n",
       "    <tr>\n",
       "      <th>max</th>\n",
       "      <td>21042.000000</td>\n",
       "      <td>92780.000000</td>\n",
       "    </tr>\n",
       "    <tr>\n",
       "      <th rowspan=\"8\" valign=\"top\">Frozen</th>\n",
       "      <th>count</th>\n",
       "      <td>298.000000</td>\n",
       "      <td>142.000000</td>\n",
       "    </tr>\n",
       "    <tr>\n",
       "      <th>mean</th>\n",
       "      <td>3748.251678</td>\n",
       "      <td>1652.612676</td>\n",
       "    </tr>\n",
       "    <tr>\n",
       "      <th>std</th>\n",
       "      <td>5643.912500</td>\n",
       "      <td>1812.803662</td>\n",
       "    </tr>\n",
       "    <tr>\n",
       "      <th>min</th>\n",
       "      <td>25.000000</td>\n",
       "      <td>33.000000</td>\n",
       "    </tr>\n",
       "    <tr>\n",
       "      <th>25%</th>\n",
       "      <td>830.000000</td>\n",
       "      <td>534.250000</td>\n",
       "    </tr>\n",
       "    <tr>\n",
       "      <th>50%</th>\n",
       "      <td>2057.500000</td>\n",
       "      <td>1081.000000</td>\n",
       "    </tr>\n",
       "    <tr>\n",
       "      <th>75%</th>\n",
       "      <td>4558.750000</td>\n",
       "      <td>2146.750000</td>\n",
       "    </tr>\n",
       "    <tr>\n",
       "      <th>max</th>\n",
       "      <td>60869.000000</td>\n",
       "      <td>11559.000000</td>\n",
       "    </tr>\n",
       "    <tr>\n",
       "      <th rowspan=\"8\" valign=\"top\">Detergents_Paper</th>\n",
       "      <th>count</th>\n",
       "      <td>298.000000</td>\n",
       "      <td>142.000000</td>\n",
       "    </tr>\n",
       "    <tr>\n",
       "      <th>mean</th>\n",
       "      <td>790.560403</td>\n",
       "      <td>7269.507042</td>\n",
       "    </tr>\n",
       "    <tr>\n",
       "      <th>std</th>\n",
       "      <td>1104.093673</td>\n",
       "      <td>6291.089697</td>\n",
       "    </tr>\n",
       "    <tr>\n",
       "      <th>min</th>\n",
       "      <td>3.000000</td>\n",
       "      <td>332.000000</td>\n",
       "    </tr>\n",
       "    <tr>\n",
       "      <th>25%</th>\n",
       "      <td>183.250000</td>\n",
       "      <td>3683.500000</td>\n",
       "    </tr>\n",
       "    <tr>\n",
       "      <th>50%</th>\n",
       "      <td>385.500000</td>\n",
       "      <td>5614.500000</td>\n",
       "    </tr>\n",
       "    <tr>\n",
       "      <th>75%</th>\n",
       "      <td>899.500000</td>\n",
       "      <td>8662.500000</td>\n",
       "    </tr>\n",
       "    <tr>\n",
       "      <th>max</th>\n",
       "      <td>6907.000000</td>\n",
       "      <td>40827.000000</td>\n",
       "    </tr>\n",
       "    <tr>\n",
       "      <th rowspan=\"8\" valign=\"top\">Delicatessen</th>\n",
       "      <th>count</th>\n",
       "      <td>298.000000</td>\n",
       "      <td>142.000000</td>\n",
       "    </tr>\n",
       "    <tr>\n",
       "      <th>mean</th>\n",
       "      <td>1415.956376</td>\n",
       "      <td>1753.436620</td>\n",
       "    </tr>\n",
       "    <tr>\n",
       "      <th>std</th>\n",
       "      <td>3147.426922</td>\n",
       "      <td>1953.797047</td>\n",
       "    </tr>\n",
       "    <tr>\n",
       "      <th>min</th>\n",
       "      <td>3.000000</td>\n",
       "      <td>3.000000</td>\n",
       "    </tr>\n",
       "    <tr>\n",
       "      <th>25%</th>\n",
       "      <td>379.000000</td>\n",
       "      <td>566.750000</td>\n",
       "    </tr>\n",
       "    <tr>\n",
       "      <th>50%</th>\n",
       "      <td>821.000000</td>\n",
       "      <td>1350.000000</td>\n",
       "    </tr>\n",
       "    <tr>\n",
       "      <th>75%</th>\n",
       "      <td>1548.000000</td>\n",
       "      <td>2156.000000</td>\n",
       "    </tr>\n",
       "    <tr>\n",
       "      <th>max</th>\n",
       "      <td>47943.000000</td>\n",
       "      <td>16523.000000</td>\n",
       "    </tr>\n",
       "  </tbody>\n",
       "</table>\n",
       "</div>"
      ],
      "text/plain": [
       "Channel                         Hotel        Retail\n",
       "Fresh            count     298.000000    142.000000\n",
       "                 mean    13475.560403   8904.323944\n",
       "                 std     13831.687502   8987.714750\n",
       "                 min         3.000000     18.000000\n",
       "                 25%      4070.250000   2347.750000\n",
       "                 50%      9581.500000   5993.500000\n",
       "                 75%     18274.750000  12229.750000\n",
       "                 max    112151.000000  44466.000000\n",
       "Milk             count     298.000000    142.000000\n",
       "                 mean     3451.724832  10716.500000\n",
       "                 std      4352.165571   9679.631351\n",
       "                 min        55.000000    928.000000\n",
       "                 25%      1164.500000   5938.000000\n",
       "                 50%      2157.000000   7812.000000\n",
       "                 75%      4029.500000  12162.750000\n",
       "                 max     43950.000000  73498.000000\n",
       "Grocery          count     298.000000    142.000000\n",
       "                 mean     3962.137584  16322.852113\n",
       "                 std      3545.513391  12267.318094\n",
       "                 min         3.000000   2743.000000\n",
       "                 25%      1703.750000   9245.250000\n",
       "                 50%      2684.000000  12390.000000\n",
       "                 75%      5076.750000  20183.500000\n",
       "                 max     21042.000000  92780.000000\n",
       "Frozen           count     298.000000    142.000000\n",
       "                 mean     3748.251678   1652.612676\n",
       "                 std      5643.912500   1812.803662\n",
       "                 min        25.000000     33.000000\n",
       "                 25%       830.000000    534.250000\n",
       "                 50%      2057.500000   1081.000000\n",
       "                 75%      4558.750000   2146.750000\n",
       "                 max     60869.000000  11559.000000\n",
       "Detergents_Paper count     298.000000    142.000000\n",
       "                 mean      790.560403   7269.507042\n",
       "                 std      1104.093673   6291.089697\n",
       "                 min         3.000000    332.000000\n",
       "                 25%       183.250000   3683.500000\n",
       "                 50%       385.500000   5614.500000\n",
       "                 75%       899.500000   8662.500000\n",
       "                 max      6907.000000  40827.000000\n",
       "Delicatessen     count     298.000000    142.000000\n",
       "                 mean     1415.956376   1753.436620\n",
       "                 std      3147.426922   1953.797047\n",
       "                 min         3.000000      3.000000\n",
       "                 25%       379.000000    566.750000\n",
       "                 50%       821.000000   1350.000000\n",
       "                 75%      1548.000000   2156.000000\n",
       "                 max     47943.000000  16523.000000"
      ]
     },
     "execution_count": 10,
     "metadata": {},
     "output_type": "execute_result"
    }
   ],
   "source": [
    "data_df_1_Channel.describe().T"
   ]
  },
  {
   "cell_type": "code",
   "execution_count": 11,
   "metadata": {
    "scrolled": true
   },
   "outputs": [
    {
     "name": "stderr",
     "output_type": "stream",
     "text": [
      "C:\\Users\\Srinidhi Devan\\anaconda3\\lib\\site-packages\\ipykernel_launcher.py:1: FutureWarning: Indexing with multiple keys (implicitly converted to a tuple of keys) will be deprecated, use a list instead.\n",
      "  \"\"\"Entry point for launching an IPython kernel.\n"
     ]
    },
    {
     "data": {
      "text/html": [
       "<div>\n",
       "<style scoped>\n",
       "    .dataframe tbody tr th:only-of-type {\n",
       "        vertical-align: middle;\n",
       "    }\n",
       "\n",
       "    .dataframe tbody tr th {\n",
       "        vertical-align: top;\n",
       "    }\n",
       "\n",
       "    .dataframe thead th {\n",
       "        text-align: right;\n",
       "    }\n",
       "</style>\n",
       "<table border=\"1\" class=\"dataframe\">\n",
       "  <thead>\n",
       "    <tr style=\"text-align: right;\">\n",
       "      <th></th>\n",
       "      <th>Fresh</th>\n",
       "      <th>Milk</th>\n",
       "      <th>Grocery</th>\n",
       "      <th>Frozen</th>\n",
       "      <th>Detergents_Paper</th>\n",
       "      <th>Delicatessen</th>\n",
       "    </tr>\n",
       "    <tr>\n",
       "      <th>Region</th>\n",
       "      <th></th>\n",
       "      <th></th>\n",
       "      <th></th>\n",
       "      <th></th>\n",
       "      <th></th>\n",
       "      <th></th>\n",
       "    </tr>\n",
       "  </thead>\n",
       "  <tbody>\n",
       "    <tr>\n",
       "      <th>Lisbon</th>\n",
       "      <td>854833</td>\n",
       "      <td>422454</td>\n",
       "      <td>570037</td>\n",
       "      <td>231026</td>\n",
       "      <td>204136</td>\n",
       "      <td>104327</td>\n",
       "    </tr>\n",
       "    <tr>\n",
       "      <th>Oporto</th>\n",
       "      <td>464721</td>\n",
       "      <td>239144</td>\n",
       "      <td>433274</td>\n",
       "      <td>190132</td>\n",
       "      <td>173311</td>\n",
       "      <td>54506</td>\n",
       "    </tr>\n",
       "    <tr>\n",
       "      <th>Other</th>\n",
       "      <td>3960577</td>\n",
       "      <td>1888759</td>\n",
       "      <td>2495251</td>\n",
       "      <td>930492</td>\n",
       "      <td>890410</td>\n",
       "      <td>512110</td>\n",
       "    </tr>\n",
       "  </tbody>\n",
       "</table>\n",
       "</div>"
      ],
      "text/plain": [
       "          Fresh     Milk  Grocery  Frozen  Detergents_Paper  Delicatessen\n",
       "Region                                                                   \n",
       "Lisbon   854833   422454   570037  231026            204136        104327\n",
       "Oporto   464721   239144   433274  190132            173311         54506\n",
       "Other   3960577  1888759  2495251  930492            890410        512110"
      ]
     },
     "execution_count": 11,
     "metadata": {},
     "output_type": "execute_result"
    }
   ],
   "source": [
    "data_df_1_Region=data_df.groupby(['Region'])['Fresh','Milk','Grocery','Frozen','Detergents_Paper','Delicatessen']\n",
    "data_df_1_Region.sum()"
   ]
  },
  {
   "cell_type": "code",
   "execution_count": 12,
   "metadata": {
    "scrolled": true
   },
   "outputs": [
    {
     "data": {
      "text/html": [
       "<div>\n",
       "<style scoped>\n",
       "    .dataframe tbody tr th:only-of-type {\n",
       "        vertical-align: middle;\n",
       "    }\n",
       "\n",
       "    .dataframe tbody tr th {\n",
       "        vertical-align: top;\n",
       "    }\n",
       "\n",
       "    .dataframe thead th {\n",
       "        text-align: right;\n",
       "    }\n",
       "</style>\n",
       "<table border=\"1\" class=\"dataframe\">\n",
       "  <thead>\n",
       "    <tr style=\"text-align: right;\">\n",
       "      <th></th>\n",
       "      <th>Region</th>\n",
       "      <th>Lisbon</th>\n",
       "      <th>Oporto</th>\n",
       "      <th>Other</th>\n",
       "    </tr>\n",
       "  </thead>\n",
       "  <tbody>\n",
       "    <tr>\n",
       "      <th rowspan=\"8\" valign=\"top\">Fresh</th>\n",
       "      <th>count</th>\n",
       "      <td>77.000000</td>\n",
       "      <td>47.000000</td>\n",
       "      <td>316.000000</td>\n",
       "    </tr>\n",
       "    <tr>\n",
       "      <th>mean</th>\n",
       "      <td>11101.727273</td>\n",
       "      <td>9887.680851</td>\n",
       "      <td>12533.471519</td>\n",
       "    </tr>\n",
       "    <tr>\n",
       "      <th>std</th>\n",
       "      <td>11557.438575</td>\n",
       "      <td>8387.899211</td>\n",
       "      <td>13389.213115</td>\n",
       "    </tr>\n",
       "    <tr>\n",
       "      <th>min</th>\n",
       "      <td>18.000000</td>\n",
       "      <td>3.000000</td>\n",
       "      <td>3.000000</td>\n",
       "    </tr>\n",
       "    <tr>\n",
       "      <th>25%</th>\n",
       "      <td>2806.000000</td>\n",
       "      <td>2751.500000</td>\n",
       "      <td>3350.750000</td>\n",
       "    </tr>\n",
       "    <tr>\n",
       "      <th>50%</th>\n",
       "      <td>7363.000000</td>\n",
       "      <td>8090.000000</td>\n",
       "      <td>8752.500000</td>\n",
       "    </tr>\n",
       "    <tr>\n",
       "      <th>75%</th>\n",
       "      <td>15218.000000</td>\n",
       "      <td>14925.500000</td>\n",
       "      <td>17406.500000</td>\n",
       "    </tr>\n",
       "    <tr>\n",
       "      <th>max</th>\n",
       "      <td>56083.000000</td>\n",
       "      <td>32717.000000</td>\n",
       "      <td>112151.000000</td>\n",
       "    </tr>\n",
       "    <tr>\n",
       "      <th rowspan=\"8\" valign=\"top\">Milk</th>\n",
       "      <th>count</th>\n",
       "      <td>77.000000</td>\n",
       "      <td>47.000000</td>\n",
       "      <td>316.000000</td>\n",
       "    </tr>\n",
       "    <tr>\n",
       "      <th>mean</th>\n",
       "      <td>5486.415584</td>\n",
       "      <td>5088.170213</td>\n",
       "      <td>5977.085443</td>\n",
       "    </tr>\n",
       "    <tr>\n",
       "      <th>std</th>\n",
       "      <td>5704.856079</td>\n",
       "      <td>5826.343145</td>\n",
       "      <td>7935.463443</td>\n",
       "    </tr>\n",
       "    <tr>\n",
       "      <th>min</th>\n",
       "      <td>258.000000</td>\n",
       "      <td>333.000000</td>\n",
       "      <td>55.000000</td>\n",
       "    </tr>\n",
       "    <tr>\n",
       "      <th>25%</th>\n",
       "      <td>1372.000000</td>\n",
       "      <td>1430.500000</td>\n",
       "      <td>1634.000000</td>\n",
       "    </tr>\n",
       "    <tr>\n",
       "      <th>50%</th>\n",
       "      <td>3748.000000</td>\n",
       "      <td>2374.000000</td>\n",
       "      <td>3684.500000</td>\n",
       "    </tr>\n",
       "    <tr>\n",
       "      <th>75%</th>\n",
       "      <td>7503.000000</td>\n",
       "      <td>5772.500000</td>\n",
       "      <td>7198.750000</td>\n",
       "    </tr>\n",
       "    <tr>\n",
       "      <th>max</th>\n",
       "      <td>28326.000000</td>\n",
       "      <td>25071.000000</td>\n",
       "      <td>73498.000000</td>\n",
       "    </tr>\n",
       "    <tr>\n",
       "      <th rowspan=\"8\" valign=\"top\">Grocery</th>\n",
       "      <th>count</th>\n",
       "      <td>77.000000</td>\n",
       "      <td>47.000000</td>\n",
       "      <td>316.000000</td>\n",
       "    </tr>\n",
       "    <tr>\n",
       "      <th>mean</th>\n",
       "      <td>7403.077922</td>\n",
       "      <td>9218.595745</td>\n",
       "      <td>7896.363924</td>\n",
       "    </tr>\n",
       "    <tr>\n",
       "      <th>std</th>\n",
       "      <td>8496.287728</td>\n",
       "      <td>10842.745314</td>\n",
       "      <td>9537.287778</td>\n",
       "    </tr>\n",
       "    <tr>\n",
       "      <th>min</th>\n",
       "      <td>489.000000</td>\n",
       "      <td>1330.000000</td>\n",
       "      <td>3.000000</td>\n",
       "    </tr>\n",
       "    <tr>\n",
       "      <th>25%</th>\n",
       "      <td>2046.000000</td>\n",
       "      <td>2792.500000</td>\n",
       "      <td>2141.500000</td>\n",
       "    </tr>\n",
       "    <tr>\n",
       "      <th>50%</th>\n",
       "      <td>3838.000000</td>\n",
       "      <td>6114.000000</td>\n",
       "      <td>4732.000000</td>\n",
       "    </tr>\n",
       "    <tr>\n",
       "      <th>75%</th>\n",
       "      <td>9490.000000</td>\n",
       "      <td>11758.500000</td>\n",
       "      <td>10559.750000</td>\n",
       "    </tr>\n",
       "    <tr>\n",
       "      <th>max</th>\n",
       "      <td>39694.000000</td>\n",
       "      <td>67298.000000</td>\n",
       "      <td>92780.000000</td>\n",
       "    </tr>\n",
       "    <tr>\n",
       "      <th rowspan=\"8\" valign=\"top\">Frozen</th>\n",
       "      <th>count</th>\n",
       "      <td>77.000000</td>\n",
       "      <td>47.000000</td>\n",
       "      <td>316.000000</td>\n",
       "    </tr>\n",
       "    <tr>\n",
       "      <th>mean</th>\n",
       "      <td>3000.337662</td>\n",
       "      <td>4045.361702</td>\n",
       "      <td>2944.594937</td>\n",
       "    </tr>\n",
       "    <tr>\n",
       "      <th>std</th>\n",
       "      <td>3092.143894</td>\n",
       "      <td>9151.784954</td>\n",
       "      <td>4260.126243</td>\n",
       "    </tr>\n",
       "    <tr>\n",
       "      <th>min</th>\n",
       "      <td>61.000000</td>\n",
       "      <td>131.000000</td>\n",
       "      <td>25.000000</td>\n",
       "    </tr>\n",
       "    <tr>\n",
       "      <th>25%</th>\n",
       "      <td>950.000000</td>\n",
       "      <td>811.500000</td>\n",
       "      <td>664.750000</td>\n",
       "    </tr>\n",
       "    <tr>\n",
       "      <th>50%</th>\n",
       "      <td>1801.000000</td>\n",
       "      <td>1455.000000</td>\n",
       "      <td>1498.000000</td>\n",
       "    </tr>\n",
       "    <tr>\n",
       "      <th>75%</th>\n",
       "      <td>4324.000000</td>\n",
       "      <td>3272.000000</td>\n",
       "      <td>3354.750000</td>\n",
       "    </tr>\n",
       "    <tr>\n",
       "      <th>max</th>\n",
       "      <td>18711.000000</td>\n",
       "      <td>60869.000000</td>\n",
       "      <td>36534.000000</td>\n",
       "    </tr>\n",
       "    <tr>\n",
       "      <th rowspan=\"8\" valign=\"top\">Detergents_Paper</th>\n",
       "      <th>count</th>\n",
       "      <td>77.000000</td>\n",
       "      <td>47.000000</td>\n",
       "      <td>316.000000</td>\n",
       "    </tr>\n",
       "    <tr>\n",
       "      <th>mean</th>\n",
       "      <td>2651.116883</td>\n",
       "      <td>3687.468085</td>\n",
       "      <td>2817.753165</td>\n",
       "    </tr>\n",
       "    <tr>\n",
       "      <th>std</th>\n",
       "      <td>4208.462708</td>\n",
       "      <td>6514.717668</td>\n",
       "      <td>4593.051613</td>\n",
       "    </tr>\n",
       "    <tr>\n",
       "      <th>min</th>\n",
       "      <td>5.000000</td>\n",
       "      <td>15.000000</td>\n",
       "      <td>3.000000</td>\n",
       "    </tr>\n",
       "    <tr>\n",
       "      <th>25%</th>\n",
       "      <td>284.000000</td>\n",
       "      <td>282.500000</td>\n",
       "      <td>251.250000</td>\n",
       "    </tr>\n",
       "    <tr>\n",
       "      <th>50%</th>\n",
       "      <td>737.000000</td>\n",
       "      <td>811.000000</td>\n",
       "      <td>856.000000</td>\n",
       "    </tr>\n",
       "    <tr>\n",
       "      <th>75%</th>\n",
       "      <td>3593.000000</td>\n",
       "      <td>4324.500000</td>\n",
       "      <td>3875.750000</td>\n",
       "    </tr>\n",
       "    <tr>\n",
       "      <th>max</th>\n",
       "      <td>19410.000000</td>\n",
       "      <td>38102.000000</td>\n",
       "      <td>40827.000000</td>\n",
       "    </tr>\n",
       "    <tr>\n",
       "      <th rowspan=\"8\" valign=\"top\">Delicatessen</th>\n",
       "      <th>count</th>\n",
       "      <td>77.000000</td>\n",
       "      <td>47.000000</td>\n",
       "      <td>316.000000</td>\n",
       "    </tr>\n",
       "    <tr>\n",
       "      <th>mean</th>\n",
       "      <td>1354.896104</td>\n",
       "      <td>1159.702128</td>\n",
       "      <td>1620.601266</td>\n",
       "    </tr>\n",
       "    <tr>\n",
       "      <th>std</th>\n",
       "      <td>1345.423340</td>\n",
       "      <td>1050.739841</td>\n",
       "      <td>3232.581660</td>\n",
       "    </tr>\n",
       "    <tr>\n",
       "      <th>min</th>\n",
       "      <td>7.000000</td>\n",
       "      <td>51.000000</td>\n",
       "      <td>3.000000</td>\n",
       "    </tr>\n",
       "    <tr>\n",
       "      <th>25%</th>\n",
       "      <td>548.000000</td>\n",
       "      <td>540.500000</td>\n",
       "      <td>402.000000</td>\n",
       "    </tr>\n",
       "    <tr>\n",
       "      <th>50%</th>\n",
       "      <td>806.000000</td>\n",
       "      <td>898.000000</td>\n",
       "      <td>994.000000</td>\n",
       "    </tr>\n",
       "    <tr>\n",
       "      <th>75%</th>\n",
       "      <td>1775.000000</td>\n",
       "      <td>1538.500000</td>\n",
       "      <td>1832.750000</td>\n",
       "    </tr>\n",
       "    <tr>\n",
       "      <th>max</th>\n",
       "      <td>6854.000000</td>\n",
       "      <td>5609.000000</td>\n",
       "      <td>47943.000000</td>\n",
       "    </tr>\n",
       "  </tbody>\n",
       "</table>\n",
       "</div>"
      ],
      "text/plain": [
       "Region                        Lisbon        Oporto          Other\n",
       "Fresh            count     77.000000     47.000000     316.000000\n",
       "                 mean   11101.727273   9887.680851   12533.471519\n",
       "                 std    11557.438575   8387.899211   13389.213115\n",
       "                 min       18.000000      3.000000       3.000000\n",
       "                 25%     2806.000000   2751.500000    3350.750000\n",
       "                 50%     7363.000000   8090.000000    8752.500000\n",
       "                 75%    15218.000000  14925.500000   17406.500000\n",
       "                 max    56083.000000  32717.000000  112151.000000\n",
       "Milk             count     77.000000     47.000000     316.000000\n",
       "                 mean    5486.415584   5088.170213    5977.085443\n",
       "                 std     5704.856079   5826.343145    7935.463443\n",
       "                 min      258.000000    333.000000      55.000000\n",
       "                 25%     1372.000000   1430.500000    1634.000000\n",
       "                 50%     3748.000000   2374.000000    3684.500000\n",
       "                 75%     7503.000000   5772.500000    7198.750000\n",
       "                 max    28326.000000  25071.000000   73498.000000\n",
       "Grocery          count     77.000000     47.000000     316.000000\n",
       "                 mean    7403.077922   9218.595745    7896.363924\n",
       "                 std     8496.287728  10842.745314    9537.287778\n",
       "                 min      489.000000   1330.000000       3.000000\n",
       "                 25%     2046.000000   2792.500000    2141.500000\n",
       "                 50%     3838.000000   6114.000000    4732.000000\n",
       "                 75%     9490.000000  11758.500000   10559.750000\n",
       "                 max    39694.000000  67298.000000   92780.000000\n",
       "Frozen           count     77.000000     47.000000     316.000000\n",
       "                 mean    3000.337662   4045.361702    2944.594937\n",
       "                 std     3092.143894   9151.784954    4260.126243\n",
       "                 min       61.000000    131.000000      25.000000\n",
       "                 25%      950.000000    811.500000     664.750000\n",
       "                 50%     1801.000000   1455.000000    1498.000000\n",
       "                 75%     4324.000000   3272.000000    3354.750000\n",
       "                 max    18711.000000  60869.000000   36534.000000\n",
       "Detergents_Paper count     77.000000     47.000000     316.000000\n",
       "                 mean    2651.116883   3687.468085    2817.753165\n",
       "                 std     4208.462708   6514.717668    4593.051613\n",
       "                 min        5.000000     15.000000       3.000000\n",
       "                 25%      284.000000    282.500000     251.250000\n",
       "                 50%      737.000000    811.000000     856.000000\n",
       "                 75%     3593.000000   4324.500000    3875.750000\n",
       "                 max    19410.000000  38102.000000   40827.000000\n",
       "Delicatessen     count     77.000000     47.000000     316.000000\n",
       "                 mean    1354.896104   1159.702128    1620.601266\n",
       "                 std     1345.423340   1050.739841    3232.581660\n",
       "                 min        7.000000     51.000000       3.000000\n",
       "                 25%      548.000000    540.500000     402.000000\n",
       "                 50%      806.000000    898.000000     994.000000\n",
       "                 75%     1775.000000   1538.500000    1832.750000\n",
       "                 max     6854.000000   5609.000000   47943.000000"
      ]
     },
     "execution_count": 12,
     "metadata": {},
     "output_type": "execute_result"
    }
   ],
   "source": [
    "data_df_1_Region.describe().T"
   ]
  },
  {
   "cell_type": "markdown",
   "metadata": {},
   "source": [
    "## 1.3.  On the basis of the descriptive measure of variability, which item shows the most inconsistent behaviour? Which items shows the least inconsistent behaviour?"
   ]
  },
  {
   "cell_type": "code",
   "execution_count": 13,
   "metadata": {},
   "outputs": [
    {
     "name": "stdout",
     "output_type": "stream",
     "text": [
      "The coefficient of variation for Fresh is: 105.39179237473148\n",
      "\n",
      "\n",
      "The coefficient of variation for Milk is: 127.32985840065413\n",
      "\n",
      "\n",
      "The coefficient of variation for Grocery is: 119.51743730016824\n",
      "\n",
      "\n",
      "The coefficient of variation for Frozen is: 158.03323836352914\n",
      "\n",
      "\n",
      "The coefficient of variation for Detergents_Paper is: 165.46471385005154\n",
      "\n",
      "\n",
      "The coefficient of variation for Delicatessen is: 184.94068981158384\n"
     ]
    }
   ],
   "source": [
    "#COEFFICIENT OF VARIATION\n",
    "mean_fresh = data['Fresh'].mean()\n",
    "sd_fresh = data['Fresh'].std()\n",
    "cv_fresh = sd_fresh/mean_fresh *100\n",
    "print('The coefficient of variation for Fresh is:', cv_fresh)\n",
    "print('\\n')\n",
    "mean_milk = data['Milk'].mean()\n",
    "sd_milk = data['Milk'].std()\n",
    "cv_milk = sd_milk/mean_milk *100\n",
    "print('The coefficient of variation for Milk is:', cv_milk)\n",
    "print('\\n')\n",
    "mean_grocery = data['Grocery'].mean()\n",
    "sd_grocery = data['Grocery'].std()\n",
    "cv_grocery = sd_grocery/mean_grocery *100\n",
    "print('The coefficient of variation for Grocery is:', cv_grocery)\n",
    "print('\\n')\n",
    "mean_frozen = data['Frozen'].mean()\n",
    "sd_frozen = data['Frozen'].std()\n",
    "cv_frozen = sd_frozen/mean_frozen *100\n",
    "print('The coefficient of variation for Frozen is:', cv_frozen)\n",
    "print('\\n')\n",
    "mean_detergents_paper = data['Detergents_Paper'].mean()\n",
    "sd_detergents_paper = data['Detergents_Paper'].std()\n",
    "cv_detergents_paper = sd_detergents_paper/mean_detergents_paper *100\n",
    "print('The coefficient of variation for Detergents_Paper is:', cv_detergents_paper)\n",
    "print('\\n')\n",
    "mean_delicatessen = data['Delicatessen'].mean()\n",
    "sd_delicatessen = data['Delicatessen'].std()\n",
    "cv_delicatessen = sd_delicatessen/mean_delicatessen *100\n",
    "print('The coefficient of variation for Delicatessen is:', cv_delicatessen)"
   ]
  },
  {
   "cell_type": "markdown",
   "metadata": {},
   "source": [
    "### Interpretation: \n",
    "* Coefficient of variation is used as a measure of consistency of the dataset.\n",
    "\n",
    "* Higher the CV, higher is the inconsistency and the lower it is, precise is the estimate\n",
    "\n",
    "* Delicatessen is the most inconsistent variable and Fresh is the least consistent variable"
   ]
  },
  {
   "cell_type": "markdown",
   "metadata": {},
   "source": [
    "## 1.4.  Are there any outliers in the data?"
   ]
  },
  {
   "cell_type": "code",
   "execution_count": 14,
   "metadata": {},
   "outputs": [
    {
     "data": {
      "text/plain": [
       "<matplotlib.axes._subplots.AxesSubplot at 0x1808224b248>"
      ]
     },
     "execution_count": 14,
     "metadata": {},
     "output_type": "execute_result"
    },
    {
     "data": {
      "image/png": "[encoded data removed]",
      "text/plain": [
       "<Figure size 1080x720 with 1 Axes>"
      ]
     },
     "metadata": {
      "needs_background": "light"
     },
     "output_type": "display_data"
    }
   ],
   "source": [
    "#sns.boxplot(data=data['Fresh','Milk','Grocery','Frozen','Detergents_Paper','Delicatessen'])\n",
    "plt.figure(figsize=(15,10))\n",
    "data.boxplot(column=['Fresh','Milk','Grocery','Frozen','Detergents_Paper','Delicatessen'])"
   ]
  },
  {
   "cell_type": "markdown",
   "metadata": {},
   "source": [
    "* Yes, there are outliers in the dataset\n",
    "* Outliers are defined as data points that are statistically inconsistent ith the rest of the data. \n",
    "* Outlier implies experimental error or occurs due to random variation. In other words, Outlier is an observation that appears far away and diverges from an overall pattern in a sample. Hence the treatment of the outliers become necessary before proceeding further.\n",
    "* 'Fresh', 'Milk', 'Grocery', 'Frozen', 'Detergents_Paper' and 'Delicatessen' contains outliers "
   ]
  },
  {
   "cell_type": "markdown",
   "metadata": {},
   "source": [
    "## 1.5. On the basis of this report, what are the recommendations?"
   ]
  },
  {
   "cell_type": "markdown",
   "metadata": {},
   "source": [
    "#### Strategy for Hotel Channel:\n",
    "* Hotel is B2B nature, we need to do a deeper research in all the regions to make an observation on the needs of the customers of this channel, the total number of hotels in those regions were the spending is not picking up to improve them further; It is also important to retain the existing customers and bring in new customers.\n",
    "\n",
    "#### Strategy for Retail Channel:\n",
    "* Retail is B2C. Hence it is important to understand whether the retail who buys from this particular wholesaler buys from any other wholesaler or not. If yes, what are the products he is buying and why is he buying from that wholesaler instead of us(this wholesaler) and how can we convert this retailer to totally buy from us. In this case, 'loyalty programs' can encourage them to an extent. Doing a research on the competition (Wholesalers), will also provide a deeper insights on the the prices they are offering and programs to hold the existing customers and to bring in new customers.\n",
    "\n",
    "#### Regions:\n",
    "* We saw that spending in regions like Oporto (both Hotel and Retail channel) is not picking up whereas the Other regions in both channels were the highest spender. It is possible that customer understanding in that particular region might be lacking. Understanding on what could possibly be improved in the regions will help changing the situation in Oporto."
   ]
  },
  {
   "cell_type": "markdown",
   "metadata": {},
   "source": []
  },
  {
   "cell_type": "markdown",
   "metadata": {},
   "source": [
    "# Problem 2\n",
    "The Student News Service at Clear Mountain State University (CMSU) has decided to gather data about the undergraduate students that attend CMSU. CMSU creates and distributes a survey of 14 questions and receives responses from 62 undergraduates (stored in the Survey.csv file).\n",
    "\n",
    "### Part I\n",
    "\n",
    "• 2.1. For this data, construct the following contingency tables (Keep Gender as row variable)\n",
    "\n",
    "2.1.1. Gender and Major\n",
    "\n",
    "2.1.2. Gender and Grad Intention\n",
    "\n",
    "2.1.3. Gender and Employment\n",
    "\n",
    "2.1.4. Gender and Computer\n",
    "\n",
    "\n",
    "• 2.2. Assume that the sample is a representative of the population of CMSU. Based on the data, answer the following questions:\n",
    "\n",
    "2.2.1. What is the probability that a randomly selected CMSU student will be male?\n",
    "What is the probability that a randomly selected CMSU student will be female?\n",
    "\n",
    "2.2.2. Find the conditional probability of different majors among the male students in CMSU.\n",
    "Find the conditional probability of different majors among the female students of CMSU.\n",
    "\n",
    "2.2.3. Find the conditional probability of intent to graduate, given that the student is a male.\n",
    "Find the conditional probability of intent to graduate, given that the student is a female.\n",
    "\n",
    "2.2.4. Find the conditional probability of employment status for the male students as well as for the female students.\n",
    "\n",
    "2.2.5. Find the conditional probability of laptop preference among the male students as well as among the female students.\n",
    " \n",
    " \n",
    "• 2.3. Based on the above probabilities, do you think that the column variable in each case is independent of Gender?\n",
    "Justify your comment in each case.\n",
    "\n",
    "\n",
    "### Part II\n",
    "\n",
    "•\t2.4. Note that there are three numerical (continuous) variables in the data set, Salary, Spending and Text Messages. For each of them comment whether they follow a normal distribution.\n",
    "Write a note summarizing your conclusions. [Recall that symmetric histogram does not necessarily mean that the underlying distribution is symmetric]\n"
   ]
  },
  {
   "cell_type": "markdown",
   "metadata": {},
   "source": [
    "### About the Survey Data:\n",
    "1) ID- Student's Number\n",
    "\n",
    "2) Gender- Gender of the students (Male/Female)\n",
    "\n",
    "3) Age- Age (in number of years) of the student\n",
    "\n",
    "4) Class- Class of the students (Junior/Senior/Sophomore)\n",
    "\n",
    "5) Major- Major subject of the students (Accounting/CIS/Economics Finance/International Business/Management/Other/Retailing Marketing/Undecided)\n",
    "\n",
    "6) Grad Intention- Whether students have the intention to graduate (Yes/No/Undecided)\n",
    "\n",
    "7) GPA- GPA Score of the students\n",
    "\n",
    "8) Employment- Employment status of the students (Full-Time/Part-Time/Unemployed)\n",
    "\n",
    "9) Salary (Continuous)- Salary earned by the students \n",
    "\n",
    "10) Spending (Continuous)- Spending by the students \n",
    "\n",
    "11) Computer- Computer owned by the students (Desktop/Laptop/Tablet)\n",
    "\n",
    "12) Text Message (Continuous)- Number of text messages by the students"
   ]
  },
  {
   "cell_type": "code",
   "execution_count": 15,
   "metadata": {},
   "outputs": [],
   "source": [
    "#Loading libraries\n",
    "import numpy as np\n",
    "import pandas as pd\n",
    "import os\n",
    "import seaborn as sns   \n",
    "import matplotlib.pyplot as plt\n",
    "sns.set(color_codes=True) \n",
    "%matplotlib inline\n",
    "import scipy.stats as stats\n",
    "from scipy.stats import ttest_1samp, ttest_ind\n",
    "from statsmodels.stats.power import ttest_power\n",
    "from statsmodels.stats import weightstats as stests\n",
    "from scipy.stats import shapiro\n",
    "import statsmodels.api as sm \n",
    "import pylab as py "
   ]
  },
  {
   "cell_type": "code",
   "execution_count": 16,
   "metadata": {},
   "outputs": [],
   "source": [
    "#Loading the data\n",
    "survey=pd.read_csv('Survey-1.csv')"
   ]
  },
  {
   "cell_type": "markdown",
   "metadata": {},
   "source": [
    "## 2.1. For this data, construct the following contingency tables (Keep Gender as row variable)"
   ]
  },
  {
   "cell_type": "markdown",
   "metadata": {},
   "source": [
    "### 2.1.1. Gender and Major"
   ]
  },
  {
   "cell_type": "code",
   "execution_count": 17,
   "metadata": {},
   "outputs": [
    {
     "name": "stdout",
     "output_type": "stream",
     "text": [
      "Major   Accounting  CIS  Economics/Finance  International Business  \\\n",
      "Gender                                                               \n",
      "Female           3    3                  7                       4   \n",
      "Male             4    1                  4                       2   \n",
      "\n",
      "Major   Management  Other  Retailing/Marketing  Undecided  \n",
      "Gender                                                     \n",
      "Female           4      3                    9          0  \n",
      "Male             6      4                    5          3  \n"
     ]
    }
   ],
   "source": [
    "survey_crosstab_1 = pd.crosstab(survey['Gender'],survey['Major']) \n",
    "print(survey_crosstab_1) "
   ]
  },
  {
   "cell_type": "markdown",
   "metadata": {},
   "source": [
    "### 2.1.2. Gender and Grad Intention"
   ]
  },
  {
   "cell_type": "code",
   "execution_count": 18,
   "metadata": {},
   "outputs": [
    {
     "name": "stdout",
     "output_type": "stream",
     "text": [
      "Grad Intention  No  Undecided  Yes\n",
      "Gender                            \n",
      "Female           9         13   11\n",
      "Male             3          9   17\n"
     ]
    }
   ],
   "source": [
    "survey_crosstab_2 = pd.crosstab(survey['Gender'],survey['Grad Intention']) \n",
    "print(survey_crosstab_2)"
   ]
  },
  {
   "cell_type": "markdown",
   "metadata": {},
   "source": [
    "### 2.1.3. Gender and Employment"
   ]
  },
  {
   "cell_type": "code",
   "execution_count": 19,
   "metadata": {},
   "outputs": [
    {
     "name": "stdout",
     "output_type": "stream",
     "text": [
      "Employment  Full-Time  Part-Time  Unemployed\n",
      "Gender                                      \n",
      "Female              3         24           6\n",
      "Male                7         19           3\n"
     ]
    }
   ],
   "source": [
    "survey_crosstab_3 = pd.crosstab(survey['Gender'],survey['Employment']) \n",
    "print(survey_crosstab_3)"
   ]
  },
  {
   "cell_type": "markdown",
   "metadata": {},
   "source": [
    "### 2.1.4. Gender and Computer"
   ]
  },
  {
   "cell_type": "code",
   "execution_count": 20,
   "metadata": {},
   "outputs": [
    {
     "name": "stdout",
     "output_type": "stream",
     "text": [
      "Computer  Desktop  Laptop  Tablet\n",
      "Gender                           \n",
      "Female          2      29       2\n",
      "Male            3      26       0\n"
     ]
    }
   ],
   "source": [
    "survey_crosstab_4 = pd.crosstab(survey['Gender'],survey['Computer']) \n",
    "print(survey_crosstab_4)"
   ]
  },
  {
   "cell_type": "markdown",
   "metadata": {},
   "source": [
    "## 2.2. Assume that the sample is a representative of the population of CMSU. Based on the data, answer the following questions:"
   ]
  },
  {
   "cell_type": "markdown",
   "metadata": {},
   "source": [
    "### 2.2.1. What is the probability that a randomly selected CMSU student will be male? What is the probability that a randomly selected CMSU student will be female?"
   ]
  },
  {
   "cell_type": "code",
   "execution_count": 21,
   "metadata": {},
   "outputs": [
    {
     "name": "stdout",
     "output_type": "stream",
     "text": [
      "The Probability % that a randomly selected CMSU student being male is 46.77 %\n",
      "The Probability % that a randomly selected CMSU student being female is 53.23 %\n"
     ]
    }
   ],
   "source": [
    "prob_male_student_being_selected = 29 /62\n",
    "prob_female_student_being_selected = 33 /62\n",
    "print('The Probability % that a randomly selected CMSU student being male is',round(prob_male_student_being_selected,4)*100,'%')\n",
    "print('The Probability % that a randomly selected CMSU student being female is',round(prob_female_student_being_selected,4)*100,'%')"
   ]
  },
  {
   "cell_type": "markdown",
   "metadata": {},
   "source": [
    "### 2.2.2. Find the conditional probability of different majors among the male students in CMSU. Find the conditional probability of different majors among the female students of CMSU."
   ]
  },
  {
   "cell_type": "code",
   "execution_count": 22,
   "metadata": {},
   "outputs": [
    {
     "name": "stdout",
     "output_type": "stream",
     "text": [
      "Probability of Accounts as a major among male is 0.1379\n",
      "Probability of Accounts as a major among female is 0.0909\n",
      "\n",
      "\n",
      "Probability of CIS as a major subject among male is 0.0345\n",
      "Probability of CIS as a major subject among female is 0.0909\n",
      "\n",
      "\n",
      "Probability of Economics/Finance as a major subject among male is 0.1379\n",
      "Probability of Economics/Finance as a major subject among female is 0.2121\n",
      "\n",
      "\n",
      "Probability of International Business as a major subject among male is 0.069\n",
      "Probability of International Business as a major subject among female is 0.1212\n",
      "\n",
      "\n",
      "Probability of Management as a major subject among male is 0.2069\n",
      "Probability of Management as a major subject among female is 0.1212\n",
      "\n",
      "\n",
      "Probability of Others as a major among male is 0.1379\n",
      "Probability of Others as a major among female is 0.0909\n",
      "\n",
      "\n",
      "Probability of Retail/Marketing as a major subject among male is 0.1724\n",
      "Probability of Retail/Marketing as a major subject among female is 0.2727\n",
      "\n",
      "\n",
      "Probability of Undecided subject among male is 0.1034\n",
      "Probability of Undecided subject among female is 0.0\n"
     ]
    }
   ],
   "source": [
    "prob_Accounting_male = 4/29\n",
    "prob_Accounting_female = 3/33\n",
    "print('Probability of Accounts as a major among male is',round(prob_Accounting_male,4))\n",
    "print('Probability of Accounts as a major among female is',round(prob_Accounting_female,4))\n",
    "print('\\n')\n",
    "prob_CIS_male = 1/29\n",
    "prob_CIS_female = 3/33\n",
    "print('Probability of CIS as a major subject among male is',round(prob_CIS_male,4))\n",
    "print('Probability of CIS as a major subject among female is',round(prob_CIS_female,4))\n",
    "print('\\n')\n",
    "prob_EcoFin_male = 4/29\n",
    "prob_EcoFin_female = 7/33\n",
    "print('Probability of Economics/Finance as a major subject among male is',round(prob_EcoFin_male,4))\n",
    "print('Probability of Economics/Finance as a major subject among female is',round(prob_EcoFin_female,4))\n",
    "print('\\n')\n",
    "prob_IntBus_male = 2/29\n",
    "prob_IntBus_female = 4/33\n",
    "print('Probability of International Business as a major subject among male is',round(prob_IntBus_male,4))\n",
    "print('Probability of International Business as a major subject among female is',round(prob_IntBus_female,4))\n",
    "print('\\n')\n",
    "prob_Mang_male = 6/29\n",
    "prob_Mang_female = 4/33\n",
    "print('Probability of Management as a major subject among male is',round(prob_Mang_male,4))\n",
    "print('Probability of Management as a major subject among female is',round(prob_Mang_female,4))\n",
    "print('\\n')\n",
    "prob_Others_male = 4/29\n",
    "prob_Others_female = 3/33\n",
    "print('Probability of Others as a major among male is',round(prob_Others_male,4))\n",
    "print('Probability of Others as a major among female is',round(prob_Others_female,4))\n",
    "print('\\n')\n",
    "prob_RetMkt_male = 5/29\n",
    "prob_RetMkt_female = 9/33\n",
    "print('Probability of Retail/Marketing as a major subject among male is',round(prob_RetMkt_male,4))\n",
    "print('Probability of Retail/Marketing as a major subject among female is',round(prob_RetMkt_female,4))\n",
    "print('\\n')\n",
    "prob_Undec_male = 3/29\n",
    "prob_Undec_female = 0/33\n",
    "print('Probability of Undecided subject among male is',round(prob_Undec_male,4))\n",
    "print('Probability of Undecided subject among female is',round(prob_Undec_female,4))"
   ]
  },
  {
   "cell_type": "markdown",
   "metadata": {},
   "source": [
    "### 2.2.3. Find the conditional probability of intent to graduate, given that the student is a male. Find the conditional probability of intent to graduate, given that the student is a female."
   ]
  },
  {
   "cell_type": "code",
   "execution_count": 23,
   "metadata": {},
   "outputs": [
    {
     "name": "stdout",
     "output_type": "stream",
     "text": [
      "Probability of no intent to graduate among male is 0.1034\n",
      "Probability of no intent to graduate among female is 0.2727\n",
      "\n",
      "\n",
      "Probability with intent to graduate among male is 0.3103\n",
      "Probability with intent to graduate among female is 0.3939\n",
      "\n",
      "\n",
      "Probability with undecided intent to graduate among male is 0.5862\n",
      "Probability with undecided intent to graduate among female is 0.3333\n"
     ]
    }
   ],
   "source": [
    "prob_No_Intention_Grad_male = 3/29\n",
    "prob_No_Intention_Grad_female = 9/33\n",
    "print('Probability of no intent to graduate among male is',round(prob_No_Intention_Grad_male,4))\n",
    "print('Probability of no intent to graduate among female is',round(prob_No_Intention_Grad_female,4))\n",
    "print('\\n')\n",
    "prob_Yes_Intention_Grad_male = 9/29\n",
    "prob_Yes_Intention_Grad_female = 13/33\n",
    "print('Probability with intent to graduate among male is',round(prob_Yes_Intention_Grad_male,4))\n",
    "print('Probability with intent to graduate among female is',round(prob_Yes_Intention_Grad_female,4))\n",
    "print('\\n')\n",
    "prob_Undecided_Intention_Grad_male = 17/29\n",
    "prob_Undecided_Intention_Grad_female = 11/33\n",
    "print('Probability with undecided intent to graduate among male is',round(prob_Undecided_Intention_Grad_male,4))\n",
    "print('Probability with undecided intent to graduate among female is',round(prob_Undecided_Intention_Grad_female,4))"
   ]
  },
  {
   "cell_type": "markdown",
   "metadata": {},
   "source": [
    "### 2.2.4. Find the conditional probability of employment status for the male students as well as for the female students."
   ]
  },
  {
   "cell_type": "code",
   "execution_count": 24,
   "metadata": {},
   "outputs": [
    {
     "name": "stdout",
     "output_type": "stream",
     "text": [
      "Probability of full time employment among male is 0.2414\n",
      "Probability of full time employment among female is 0.0909\n",
      "\n",
      "\n",
      "Probability of part time employment among male is 0.6552\n",
      "Probability of part time employment among female is 0.7273\n",
      "\n",
      "\n",
      "Probability of unemployed among male is 0.1034\n",
      "Probability of unemployed among female is 0.1818\n"
     ]
    }
   ],
   "source": [
    "prob_full_time_male = 7/29\n",
    "prob_full_time_female = 3/33\n",
    "print('Probability of full time employment among male is',round(prob_full_time_male,4))\n",
    "print('Probability of full time employment among female is',round(prob_full_time_female,4))\n",
    "print('\\n')\n",
    "prob_part_time_male = 19/29\n",
    "prob_part_time_female = 24/33\n",
    "print('Probability of part time employment among male is',round(prob_part_time_male,4))\n",
    "print('Probability of part time employment among female is',round(prob_part_time_female,4))\n",
    "print('\\n')\n",
    "prob_unemp_male = 3/29\n",
    "prob_unemp_female = 6/33\n",
    "print('Probability of unemployed among male is',round(prob_unemp_male,4))\n",
    "print('Probability of unemployed among female is',round(prob_unemp_female,4))"
   ]
  },
  {
   "cell_type": "markdown",
   "metadata": {},
   "source": [
    "### 2.2.5. Find the conditional probability of laptop preference among the male students as well as among the female students."
   ]
  },
  {
   "cell_type": "code",
   "execution_count": 25,
   "metadata": {},
   "outputs": [
    {
     "name": "stdout",
     "output_type": "stream",
     "text": [
      "Probability of desktop among male is 0.1034\n",
      "Probability of desktop among female is 0.0606\n",
      "\n",
      "\n",
      "Probability of laptop among male is 0.8966\n",
      "Probability of laptop among female is 0.8788\n",
      "\n",
      "\n",
      "Probability of tablet among male is 0.0\n",
      "Probability of tablet among female is 0.0606\n"
     ]
    }
   ],
   "source": [
    "prob_desktop_male = 3/29\n",
    "prob_desktop_female = 2/33\n",
    "print('Probability of desktop among male is',round(prob_desktop_male,4))\n",
    "print('Probability of desktop among female is',round(prob_desktop_female,4))\n",
    "print('\\n')\n",
    "prob_laptop_male = 26/29\n",
    "prob_laptop_female = 29/33\n",
    "print('Probability of laptop among male is',round(prob_laptop_male,4))\n",
    "print('Probability of laptop among female is',round(prob_laptop_female,4))\n",
    "print('\\n')\n",
    "prob_tablet_male = 0/29\n",
    "prob_tablet_female = 2/33\n",
    "print('Probability of tablet among male is',round(prob_tablet_male,4))\n",
    "print('Probability of tablet among female is',round(prob_tablet_female,4))"
   ]
  },
  {
   "cell_type": "markdown",
   "metadata": {},
   "source": [
    "## 2.3. Based on the above probabilities, do you think that the column variable in each case is independent of Gender? Justify your comment in each case."
   ]
  },
  {
   "cell_type": "markdown",
   "metadata": {},
   "source": [
    "•\tAccounting and Gender\n",
    "Male students choosing Accounting as their major is greater than that of female. It is a general perception that male students are good at maths compared to their female counterparts and also, they at future might want to pursue Chartered Accountancy which requires travelling from place to place. Hence it is intuitive that male prefer Accounting more than female. \n",
    "\n",
    "•\tCIS and Gender\n",
    "Computer sciences were pre-dominantly chosen by male students but this trend in recent times are changing because of more job availability in this field. Hence we see quite a difference in CIS major in female, which is higher than that of male.\n",
    "\n",
    "•\tEconomics/Finance and Gender\n",
    "According to the IMF article, there is a closing gap in terms of career in Finance/Economics field, as women might be better in risk management than men and more women on boards will lead to better decisions. Seeing this as a career option can explain the above probability in this case.\n",
    "\n",
    "•\tInternational Business and Gender\n",
    "Business involves lot of risk-taking. ‘Risk-Taking’ has gender bias, according to the Harvard Business Review article, men are less risk-averse than women under stress. But the conditional probability of International Business given female is greater than that of male is an interesting phenomenon. This part can be understood as change in risk-averse minds of the people and that female will also have potential to take risk under stress.\n",
    "\n",
    "•\tManagement and Gender\n",
    "Management also quite a gender bias. In many companies, top managers are mostly male rather than female due to the pressure from their families, only career-oriented women could achieve higher positions in management this might influence the students in choosing their majors and explains why the probability for male is much higher for female.\n",
    "\n",
    "•\tRetailing/Marketing and Gender\n",
    "Women are blessed with attributes that make them crucial for retail. The ability to be pleasant, tolerance, compassion, stable, effectively communicate with customers makes women more suitable for specific retail roles. This explains why more female students prefer Retailing and Marketing as their major subject compared to their male counterparts.\n",
    "\n",
    "•\tUndecided and Gender\n",
    "As expected, the probability of ‘undecided’ is the least since most of the students are up-to data with the current situation in the market and they choose their majors basis that.\n",
    "\n",
    "•\tIntent or No Intent to Graduate and Gender\n",
    "‘Intent’ or ‘No intent’ to graduate is also closely related to ‘Gender’. It is generally observed the drop-outs rate especially in developed countries like U.S. are very high and is even higher for the female population as parents or spouses become unemployed, financial aid status or eligibility change, family needs (caring for family members, pregnancy, or illness). One main consequences is that there would be a shortage of skilled workers in the working population. \n",
    "\n",
    "•\tEmployment and Gender\n",
    "Employment and Gender is closely related to each other as well. According to the International Labour Organization report, finding a job is much tougher for women than it is for men. This explains the ‘Unemployment’ rate for male is lesser than for female in this case. When women are employed, they tend to work in low-quality jobs in vulnerable conditions. For women, working full-time tends to be difficult in general, which explains the lower probability in case of female than in male and hence they mostly prefer part-time jobs instead of full-time.\n",
    "\n",
    "•\tLaptop Preference and Gender\n",
    "Laptop preference is gender sensitive. Female students, in general, female is price sensitive and less sensitive to the features of laptop/desktop on the contrary to their male counterparts. That is why we see that laptop is preferred both by male and female students, however, probability of male over female is higher.\n"
   ]
  },
  {
   "cell_type": "markdown",
   "metadata": {},
   "source": [
    "## 2.4. Note that there are three numerical (continuous) variables in the data set, Salary, Spending and Text Messages. For each of them comment whether they follow a normal distribution. Write a note summarizing your conclusions. [Recall that symmetric histogram does not necessarily mean that the underlying distribution is symmetric]"
   ]
  },
  {
   "cell_type": "code",
   "execution_count": 26,
   "metadata": {},
   "outputs": [
    {
     "name": "stdout",
     "output_type": "stream",
     "text": [
      "statistics=0.957, p=0.028\n",
      "it does not follow Normal distribution\n"
     ]
    }
   ],
   "source": [
    "stat, p = shapiro(survey['Salary'])\n",
    "print('statistics=%.3f, p=%.3f' % (stat, p))\n",
    "alpha = 0.05\n",
    "if p > alpha:\n",
    "    print('it follows Normal distribution')\n",
    "else:\n",
    "    print('it does not follow Normal distribution')"
   ]
  },
  {
   "cell_type": "code",
   "execution_count": 27,
   "metadata": {},
   "outputs": [
    {
     "name": "stdout",
     "output_type": "stream",
     "text": [
      "statistics=0.878, p=0.000\n",
      "it does not follow Normal distribution\n"
     ]
    }
   ],
   "source": [
    "stat, p = shapiro(survey['Spending'])\n",
    "print('statistics=%.3f, p=%.3f' % (stat, p))\n",
    "alpha = 0.05\n",
    "if p > alpha:\n",
    "    print('it follows Normal distribution')\n",
    "else:\n",
    "    print('it does not follow Normal distribution')"
   ]
  },
  {
   "cell_type": "code",
   "execution_count": 28,
   "metadata": {},
   "outputs": [
    {
     "name": "stdout",
     "output_type": "stream",
     "text": [
      "statistics=0.859, p=0.000\n",
      "it does not follow Normal distribution\n"
     ]
    }
   ],
   "source": [
    "stat, p = shapiro(survey['Text Messages'])\n",
    "print('statistics=%.3f, p=%.3f' % (stat, p))\n",
    "alpha = 0.05\n",
    "if p > alpha:\n",
    "    print('it follows Normal distribution')\n",
    "else:\n",
    "    print('it does not follow Normal distribution')"
   ]
  },
  {
   "cell_type": "code",
   "execution_count": 29,
   "metadata": {},
   "outputs": [
    {
     "data": {
      "image/png": "[encoded data removed]",
      "text/plain": [
       "<Figure size 432x288 with 1 Axes>"
      ]
     },
     "metadata": {
      "needs_background": "light"
     },
     "output_type": "display_data"
    }
   ],
   "source": [
    "sm.qqplot(survey['Salary'], line ='45') \n",
    "py.show() "
   ]
  },
  {
   "cell_type": "code",
   "execution_count": 30,
   "metadata": {},
   "outputs": [
    {
     "data": {
      "image/png": "[encoded data removed]",
      "text/plain": [
       "<Figure size 432x288 with 1 Axes>"
      ]
     },
     "metadata": {
      "needs_background": "light"
     },
     "output_type": "display_data"
    }
   ],
   "source": [
    "sm.qqplot(survey['Spending'], line ='45') \n",
    "py.show() "
   ]
  },
  {
   "cell_type": "code",
   "execution_count": 31,
   "metadata": {},
   "outputs": [
    {
     "data": {
      "image/png": "[encoded data removed]",
      "text/plain": [
       "<Figure size 432x288 with 1 Axes>"
      ]
     },
     "metadata": {
      "needs_background": "light"
     },
     "output_type": "display_data"
    }
   ],
   "source": [
    "sm.qqplot(survey['Text Messages'], line ='45') \n",
    "py.show() "
   ]
  },
  {
   "cell_type": "code",
   "execution_count": 32,
   "metadata": {},
   "outputs": [
    {
     "data": {
      "image/png": "[encoded data removed]",
      "text/plain": [
       "<Figure size 432x288 with 1 Axes>"
      ]
     },
     "metadata": {
      "needs_background": "light"
     },
     "output_type": "display_data"
    }
   ],
   "source": [
    "plt.hist(survey['Salary'], facecolor='blue', alpha=0.5);"
   ]
  },
  {
   "cell_type": "code",
   "execution_count": 33,
   "metadata": {},
   "outputs": [
    {
     "data": {
      "image/png": "[encoded data removed]",
      "text/plain": [
       "<Figure size 432x288 with 1 Axes>"
      ]
     },
     "metadata": {
      "needs_background": "light"
     },
     "output_type": "display_data"
    }
   ],
   "source": [
    "plt.hist(survey['Spending'], facecolor='blue', alpha=0.5);"
   ]
  },
  {
   "cell_type": "code",
   "execution_count": 34,
   "metadata": {},
   "outputs": [
    {
     "data": {
      "image/png": "[encoded data removed]",
      "text/plain": [
       "<Figure size 432x288 with 1 Axes>"
      ]
     },
     "metadata": {
      "needs_background": "light"
     },
     "output_type": "display_data"
    }
   ],
   "source": [
    "plt.hist(survey['Text Messages'], facecolor='blue', alpha=0.5);"
   ]
  },
  {
   "cell_type": "markdown",
   "metadata": {},
   "source": []
  },
  {
   "cell_type": "markdown",
   "metadata": {},
   "source": [
    "## Problem 3\n",
    "An important quality characteristic used by the manufacturers of ABC asphalt shingles is the amount of moisture the shingles contain when they are packaged. Customers may feel that they have purchased a product lacking in quality if they find moisture and wet shingles inside the packaging.   In some cases, excessive moisture can cause the granules attached to the shingles for texture and colouring purposes to fall off the shingles resulting in appearance problems. To monitor the amount of moisture present, the company conducts moisture tests. A shingle is weighed and then dried. The shingle is then reweighed, and based on the amount of moisture taken out of the product, the pounds of moisture per 100 square feet is calculated. The company claims that the mean moisture content cannot be greater than 0.35 pound per 100 square feet.\n",
    "The file (A & B shingles.csv) includes 36 measurements (in pounds per 100 square feet) for A shingles and 31 for B shingles.\n",
    "\n",
    "For the A shingles, the null and alternative hypothesis to test whether the population mean moisture content is less than 0.35 pound per 100 square feet  is given:\n",
    "Null<=0.35\n",
    "Alt >0.35\n",
    "\n",
    "For the B shingles, the null and alternative hypothesis to test whether the population mean moisture content is less than 0.35 pound per 100 square feet is given:\n",
    "Null<=0.35\n",
    "Alt >0.35\n",
    "\n",
    "3.1 Do you think that the population means for shingles A and B are equal? Form the hypothesis and conduct the test of the hypothesis. What assumption do you need to check before the test for equality of means is performed?\n",
    "\n",
    "3.2 What assumption about the population distribution is needed in order to conduct the hypothesis tests above?\n"
   ]
  },
  {
   "cell_type": "markdown",
   "metadata": {},
   "source": [
    "### About the A & B Shingles Data:\n",
    "\n",
    "1)  A : Moisture content (in pounds per 100 square feet) for A shingles \n",
    "\n",
    "2)  B : Moisture content (in pounds per 100 square feet) for B shingles"
   ]
  },
  {
   "cell_type": "code",
   "execution_count": 35,
   "metadata": {},
   "outputs": [],
   "source": [
    "import numpy as np\n",
    "import pandas as pd\n",
    "import os\n",
    "import seaborn as sns   \n",
    "import matplotlib.pyplot as plt\n",
    "sns.set(color_codes=True) \n",
    "%matplotlib inline\n",
    "import scipy.stats as stats\n",
    "from scipy.stats import ttest_1samp, ttest_ind\n",
    "from statsmodels.stats.power import ttest_power\n",
    "from statsmodels.stats import weightstats as stests\n",
    "import statsmodels.stats.api as sm\n",
    "import matplotlib.pyplot as plt"
   ]
  },
  {
   "cell_type": "code",
   "execution_count": 36,
   "metadata": {},
   "outputs": [],
   "source": [
    "a_n_b=pd.read_csv('A & B shingles-1.csv')"
   ]
  },
  {
   "cell_type": "markdown",
   "metadata": {},
   "source": [
    "## 3.1. Do you think that the population means for shingles A and B are equal? Form the hypothesis and conduct the test of the hypothesis. "
   ]
  },
  {
   "cell_type": "markdown",
   "metadata": {},
   "source": [
    "### STEP-1:- Hypothesis Formation\n",
    "\n",
    "Null : Mu (Shingles A) = Mu (Shingles B)  or  Mu (Shingles A) - Mu (Shingles B) = 0\n",
    "\n",
    "Alt  : Mu (Shingles A) ≠ Mu (Shingles B) or Mu (Shingles A) - Mu (Shingles B) ≠ 0"
   ]
  },
  {
   "cell_type": "markdown",
   "metadata": {},
   "source": [
    "### STEP-2:- Deciding the Significance Level\n",
    "\n",
    "By default, the alpha value is 0.05 with unknown population standard deviation"
   ]
  },
  {
   "cell_type": "markdown",
   "metadata": {},
   "source": [
    "### STEP-3:- Identifying the Test Statistic\n",
    "\n",
    "* We have two samples and we do not know the population standard deviation.\n",
    "* Sample sizes for the samples are not same.\n",
    "* Here, we will use two-sample t-test (Independent Samples)"
   ]
  },
  {
   "cell_type": "markdown",
   "metadata": {},
   "source": [
    "### STEP-4:- t-Statistic, t-Critical and p-Value"
   ]
  },
  {
   "cell_type": "code",
   "execution_count": 37,
   "metadata": {},
   "outputs": [
    {
     "name": "stdout",
     "output_type": "stream",
     "text": [
      "0.3166666666666666\n",
      "0.2735483870967742\n",
      "0.13573082605973166\n",
      "0.13729647694185443\n"
     ]
    }
   ],
   "source": [
    "x1_bar = a_n_b['A'].mean()\n",
    "print(x1_bar)\n",
    "x2_bar = a_n_b['B'].mean()\n",
    "print(x2_bar)\n",
    "sd_1 = a_n_b['A'].std()\n",
    "print(sd_1)\n",
    "sd_2 = a_n_b['B'].std()\n",
    "print(sd_2)\n",
    "n1 = 36\n",
    "n2 = 31"
   ]
  },
  {
   "cell_type": "code",
   "execution_count": 38,
   "metadata": {},
   "outputs": [],
   "source": [
    "num = (x1_bar - x2_bar)\n",
    "den = np.sqrt((sd_1**2/n1) + (sd_2**2/n2))"
   ]
  },
  {
   "cell_type": "code",
   "execution_count": 39,
   "metadata": {},
   "outputs": [
    {
     "data": {
      "text/plain": [
       "1.2885080295255011"
      ]
     },
     "execution_count": 39,
     "metadata": {},
     "output_type": "execute_result"
    }
   ],
   "source": [
    "t = num/den\n",
    "t"
   ]
  },
  {
   "cell_type": "code",
   "execution_count": 40,
   "metadata": {},
   "outputs": [
    {
     "data": {
      "text/plain": [
       "1.2539989683507894e-06"
      ]
     },
     "execution_count": 40,
     "metadata": {},
     "output_type": "execute_result"
    }
   ],
   "source": [
    "df_num = ((sd_1**2/n1) + (sd_2**2/n2)) **2\n",
    "df_num"
   ]
  },
  {
   "cell_type": "code",
   "execution_count": 41,
   "metadata": {},
   "outputs": [],
   "source": [
    "a=sd_1**4\n",
    "b=sd_2**4\n",
    "c=n1**2\n",
    "d=n2**2\n",
    "e=n1-1\n",
    "f=n2-1"
   ]
  },
  {
   "cell_type": "code",
   "execution_count": 42,
   "metadata": {},
   "outputs": [
    {
     "data": {
      "text/plain": [
       "1.980757038586641e-08"
      ]
     },
     "execution_count": 42,
     "metadata": {},
     "output_type": "execute_result"
    }
   ],
   "source": [
    "df_den = (a/(c*e))+ (b/(d*f))\n",
    "df_den"
   ]
  },
  {
   "cell_type": "code",
   "execution_count": 43,
   "metadata": {},
   "outputs": [
    {
     "data": {
      "text/plain": [
       "63.30907546569032"
      ]
     },
     "execution_count": 43,
     "metadata": {},
     "output_type": "execute_result"
    }
   ],
   "source": [
    "df = df_num/df_den\n",
    "df"
   ]
  },
  {
   "cell_type": "code",
   "execution_count": 44,
   "metadata": {},
   "outputs": [
    {
     "data": {
      "text/plain": [
       "-1.9981496317214953"
      ]
     },
     "execution_count": 44,
     "metadata": {},
     "output_type": "execute_result"
    }
   ],
   "source": [
    "tcritical = stats.t.ppf(0.05/2,df)\n",
    "tcritical"
   ]
  },
  {
   "cell_type": "code",
   "execution_count": 45,
   "metadata": {
    "scrolled": true
   },
   "outputs": [
    {
     "data": {
      "text/plain": [
       "0.8988708897489106"
      ]
     },
     "execution_count": 45,
     "metadata": {},
     "output_type": "execute_result"
    }
   ],
   "source": [
    "p=stats.t.cdf(t,df)\n",
    "p"
   ]
  },
  {
   "cell_type": "markdown",
   "metadata": {},
   "source": [
    "### Step-5:- Conclusion\n",
    "* From the above, we can conclude that since p-Value > alpha (which is 0.05) and also, t calculated > t critical\n",
    "* We fail to reject null and concude that:  Mu (Shingles A) = Mu (Shingles B)  or  Mu (Shingles A) - Mu (Shingles B) = 0\n",
    "* In other words, population means of shingle A & shingle B are equal."
   ]
  },
  {
   "cell_type": "markdown",
   "metadata": {},
   "source": [
    "## 3.1. What assumption do you need to check before the test for equality of means is performed?"
   ]
  },
  {
   "cell_type": "markdown",
   "metadata": {},
   "source": [
    "### Assumption for the test for equality of means: \n",
    "* Population is Normally Distributed\n",
    "* Equal variance for both populations\n",
    "* Each sample value is independent of the other values"
   ]
  },
  {
   "cell_type": "markdown",
   "metadata": {},
   "source": [
    "## 3.2 What assumption about the population distribution is needed in order to conduct the hypothesis tests above?"
   ]
  },
  {
   "cell_type": "markdown",
   "metadata": {},
   "source": [
    "### To conduct the above test:\n",
    "*  Population is normally distributed\n",
    "*  Data are assumed to drawn independently from the population\n",
    "*  Here, n1 and n2 are greater than 30, if population distribution is not skewed then t-distribution is the preferred test in this case."
   ]
  }
 ],
 "metadata": {
  "kernelspec": {
   "display_name": "Python 3",
   "language": "python",
   "name": "python3"
  },
  "language_info": {
   "codemirror_mode": {
    "name": "ipython",
    "version": 3
   },
   "file_extension": ".py",
   "mimetype": "text/x-python",
   "name": "python",
   "nbconvert_exporter": "python",
   "pygments_lexer": "ipython3",
   "version": "3.7.6"
  }
 },
 "nbformat": 4,
 "nbformat_minor": 4
}
