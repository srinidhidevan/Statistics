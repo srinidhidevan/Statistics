{
 "cells": [
  {
   "cell_type": "markdown",
   "metadata": {},
   "source": [
    "# NORMAL DISTRIBUTION"
   ]
  },
  {
   "cell_type": "markdown",
   "metadata": {},
   "source": [
    "# Problem-1\n",
    "Mean=0.295\n",
    "SD=0.025\n",
    "a. P(x<0.28)\n",
    "b. P(x>0.35)\n",
    "c. P(0.26<x<0.34)\n",
    "IN NORMAL DISTRIBUTION PROBABILITY OF A PARTICULAR VALUE IS ALWAYS '0' WHEREVER THE LINE IS POSITIONED WITHIN THE CURVE"
   ]
  },
  {
   "cell_type": "code",
   "execution_count": 1,
   "metadata": {},
   "outputs": [],
   "source": [
    "import scipy.stats as stats"
   ]
  },
  {
   "cell_type": "code",
   "execution_count": 2,
   "metadata": {},
   "outputs": [
    {
     "data": {
      "text/plain": [
       "-0.5999999999999983"
      ]
     },
     "execution_count": 2,
     "metadata": {},
     "output_type": "execute_result"
    }
   ],
   "source": [
    "#PART- a\n",
    "#calculating the z-score\n",
    "z=(0.28-0.295)/0.025\n",
    "z"
   ]
  },
  {
   "cell_type": "code",
   "execution_count": 3,
   "metadata": {},
   "outputs": [
    {
     "data": {
      "text/plain": [
       "0.2742531177500736"
      ]
     },
     "execution_count": 3,
     "metadata": {},
     "output_type": "execute_result"
    }
   ],
   "source": [
    "#calcualting the probability\n",
    "stats.norm.cdf(-0.6)\n",
    "#there is a 27.43% chance that a particular pack weighs less than 0.28 kg"
   ]
  },
  {
   "cell_type": "code",
   "execution_count": 4,
   "metadata": {},
   "outputs": [
    {
     "data": {
      "text/plain": [
       "2.1999999999999997"
      ]
     },
     "execution_count": 4,
     "metadata": {},
     "output_type": "execute_result"
    }
   ],
   "source": [
    "#PART- b\n",
    "#calc the z-score\n",
    "z_1=(0.35-0.295)/0.025\n",
    "z_1"
   ]
  },
  {
   "cell_type": "code",
   "execution_count": 6,
   "metadata": {},
   "outputs": [
    {
     "data": {
      "text/plain": [
       "0.01390344751349859"
      ]
     },
     "execution_count": 6,
     "metadata": {},
     "output_type": "execute_result"
    }
   ],
   "source": [
    "1-stats.norm.cdf(2.2)\n",
    "#there is a 1.4% chance that a particular pack weigh more than 0.35 kg"
   ]
  },
  {
   "cell_type": "code",
   "execution_count": 7,
   "metadata": {},
   "outputs": [
    {
     "data": {
      "text/plain": [
       "-1.399999999999999"
      ]
     },
     "execution_count": 7,
     "metadata": {},
     "output_type": "execute_result"
    }
   ],
   "source": [
    "#PART- c\n",
    "z_a=(0.26-0.295)/0.025\n",
    "z_a"
   ]
  },
  {
   "cell_type": "code",
   "execution_count": 8,
   "metadata": {},
   "outputs": [
    {
     "data": {
      "text/plain": [
       "1.8000000000000016"
      ]
     },
     "execution_count": 8,
     "metadata": {},
     "output_type": "execute_result"
    }
   ],
   "source": [
    "z_b=(0.34-0.295)/0.025\n",
    "z_b"
   ]
  },
  {
   "cell_type": "code",
   "execution_count": 11,
   "metadata": {},
   "outputs": [
    {
     "data": {
      "text/plain": [
       "0.8833130216533032"
      ]
     },
     "execution_count": 11,
     "metadata": {},
     "output_type": "execute_result"
    }
   ],
   "source": [
    "stats.norm.cdf(z_b)-stats.norm.cdf(z_a)\n",
    "#88.33% chance "
   ]
  },
  {
   "cell_type": "markdown",
   "metadata": {},
   "source": [
    "# Problem-2\n",
    "Mean=700000\n",
    "SD=90000\n",
    "A. P(X>1000000)\n",
    "B. P(600000<X<900000)\n",
    "C. P(X<400000)"
   ]
  },
  {
   "cell_type": "code",
   "execution_count": 18,
   "metadata": {},
   "outputs": [
    {
     "data": {
      "text/plain": [
       "0.0004290603331967846"
      ]
     },
     "execution_count": 18,
     "metadata": {},
     "output_type": "execute_result"
    }
   ],
   "source": [
    "#Part- A\n",
    "z=(1000000-700000)/90000\n",
    "1-stats.norm.cdf(z)\n",
    "#0.04% chances that Data Scientist will get a salary greater than 10L"
   ]
  },
  {
   "cell_type": "code",
   "execution_count": 15,
   "metadata": {},
   "outputs": [
    {
     "data": {
      "text/plain": [
       "0.8536055914064735"
      ]
     },
     "execution_count": 15,
     "metadata": {},
     "output_type": "execute_result"
    }
   ],
   "source": [
    "#Part- B\n",
    "z_a=(600000-700000)/90000\n",
    "z_b=(900000-700000)/90000\n",
    "stats.norm.cdf(z_b)-stats.norm.cdf(z_a)\n",
    "#85.36% chances that D.S. will receive a salary b/w 6L and 9L"
   ]
  },
  {
   "cell_type": "code",
   "execution_count": 17,
   "metadata": {},
   "outputs": [
    {
     "data": {
      "text/plain": [
       "0.0004290603331968372"
      ]
     },
     "execution_count": 17,
     "metadata": {},
     "output_type": "execute_result"
    }
   ],
   "source": [
    "#Part- C\n",
    "z_1=(400000-700000)/90000\n",
    "stats.norm.cdf(z_1)\n",
    "#0.04% chances that Data Scientist will get a salary lesser than 4L"
   ]
  },
  {
   "cell_type": "markdown",
   "metadata": {},
   "source": [
    "# COMMENTS\n",
    "NOTE THAT THE ANSWERS IN PART A & C ARE SAME.\n",
    "THIS IS BECAUSE 1000000 IS 3L AWAY FROM THE RIGHT OF MEAN & 400000 IS ALSO 3L AWAY FROM THE LEFT OF MEAN\n",
    "SINCE N.D. IS SYMMETRICAL ABOUT MEAN, THEIR ANSWERS ARE SAME TOO."
   ]
  },
  {
   "cell_type": "markdown",
   "metadata": {},
   "source": []
  },
  {
   "cell_type": "markdown",
   "metadata": {},
   "source": [
    "# POISSON DISTRIBUTION"
   ]
  },
  {
   "cell_type": "code",
   "execution_count": 19,
   "metadata": {},
   "outputs": [],
   "source": [
    "import numpy as np\n",
    "import scipy.stats as stats\n",
    "import matplotlib.pyplot as plt\n",
    "%matplotlib inline"
   ]
  },
  {
   "cell_type": "markdown",
   "metadata": {},
   "source": [
    "# PROBLEM-1\n",
    "Mean=6\n",
    "A. P(X=4)\n",
    "B. P(X>3)"
   ]
  },
  {
   "cell_type": "code",
   "execution_count": 22,
   "metadata": {},
   "outputs": [
    {
     "data": {
      "text/plain": [
       "array([2.47875218e-03, 1.48725131e-02, 4.46175392e-02, 8.92350784e-02,\n",
       "       1.33852618e-01, 1.60623141e-01, 1.60623141e-01, 1.37676978e-01,\n",
       "       1.03257734e-01, 6.88384890e-02, 4.13030934e-02, 2.25289600e-02,\n",
       "       1.12644800e-02, 5.19899078e-03, 2.22813891e-03, 8.91255562e-04,\n",
       "       3.34220836e-04, 1.17960295e-04, 3.93200983e-05, 1.24168732e-05])"
      ]
     },
     "execution_count": 22,
     "metadata": {},
     "output_type": "execute_result"
    }
   ],
   "source": [
    "rate=6  #mean\n",
    "n=np.arange(0,20) #to create an array of numbers from 0-19; However, it can be anything as per discretion\n",
    "poisson=stats.poisson.pmf(n,rate)\n",
    "poisson"
   ]
  },
  {
   "cell_type": "code",
   "execution_count": 23,
   "metadata": {},
   "outputs": [
    {
     "data": {
      "text/plain": [
       "0.13385261753998332"
      ]
     },
     "execution_count": 23,
     "metadata": {},
     "output_type": "execute_result"
    }
   ],
   "source": [
    "#PART-A\n",
    "poisson[4]\n",
    "#the prob of exactly 4 customers arriving in any given minute is 0.1339"
   ]
  },
  {
   "cell_type": "code",
   "execution_count": 24,
   "metadata": {},
   "outputs": [
    {
     "data": {
      "text/plain": [
       "0.8487961172233521"
      ]
     },
     "execution_count": 24,
     "metadata": {},
     "output_type": "execute_result"
    }
   ],
   "source": [
    "#PART-B\n",
    "1-(poisson[0]+poisson[1]+poisson[2]+poisson[3])\n",
    "#there is a 84.88% chance that more than 3 customers will arrive in the bank in any given min"
   ]
  },
  {
   "cell_type": "markdown",
   "metadata": {},
   "source": [
    "# PROBLEM-2\n",
    "Mean=12\n",
    "A. P(X=5)\n",
    "B. P(X<5)"
   ]
  },
  {
   "cell_type": "code",
   "execution_count": 30,
   "metadata": {},
   "outputs": [
    {
     "data": {
      "text/plain": [
       "array([6.14421235e-06, 7.37305482e-05, 4.42383289e-04, 1.76953316e-03,\n",
       "       5.30859947e-03, 1.27406387e-02, 2.54812775e-02, 4.36821900e-02,\n",
       "       6.55232849e-02, 8.73643799e-02, 1.04837256e-01, 1.14367916e-01,\n",
       "       1.14367916e-01, 1.05570384e-01, 9.04889002e-02, 7.23911201e-02,\n",
       "       5.42933401e-02, 3.83247107e-02, 2.55498071e-02, 1.61367203e-02,\n",
       "       9.68203217e-03, 5.53258981e-03, 3.01777626e-03, 1.57449196e-03,\n",
       "       7.87245981e-04, 3.77878071e-04, 1.74405263e-04, 7.75134504e-05,\n",
       "       3.32200502e-05, 1.37462277e-05])"
      ]
     },
     "execution_count": 30,
     "metadata": {},
     "output_type": "execute_result"
    }
   ],
   "source": [
    "rate=12\n",
    "n=np.arange(0,30)\n",
    "poisson=stats.poisson.pmf(n,rate)\n",
    "poisson"
   ]
  },
  {
   "cell_type": "code",
   "execution_count": 31,
   "metadata": {},
   "outputs": [
    {
     "data": {
      "text/plain": [
       "0.012740638735861376"
      ]
     },
     "execution_count": 31,
     "metadata": {},
     "output_type": "execute_result"
    }
   ],
   "source": [
    "#PART-A\n",
    "poisson[5]\n",
    "#there is a 1.2% chance that a defective laptop has exactly 5 defects"
   ]
  },
  {
   "cell_type": "code",
   "execution_count": 32,
   "metadata": {},
   "outputs": [
    {
     "data": {
      "text/plain": [
       "0.007600390681067"
      ]
     },
     "execution_count": 32,
     "metadata": {},
     "output_type": "execute_result"
    }
   ],
   "source": [
    "#PART-B\n",
    "poisson[0]+poisson[1]+poisson[2]+poisson[3]+poisson[4]\n",
    "#there is a 0.76% chance that a defective laptop has less than 5 defects"
   ]
  },
  {
   "cell_type": "code",
   "execution_count": 34,
   "metadata": {},
   "outputs": [
    {
     "data": {
      "text/plain": [
       "[<matplotlib.lines.Line2D at 0x1b938a39188>]"
      ]
     },
     "execution_count": 34,
     "metadata": {},
     "output_type": "execute_result"
    },
    {
     "data": {
      "image/png": "[encoded data removed]",
      "text/plain": [
       "<Figure size 432x288 with 1 Axes>"
      ]
     },
     "metadata": {
      "needs_background": "light"
     },
     "output_type": "display_data"
    }
   ],
   "source": [
    "#VISULAIZATION\n",
    "plt.plot(n,poisson,'o-')"
   ]
  },
  {
   "cell_type": "markdown",
   "metadata": {},
   "source": []
  },
  {
   "cell_type": "markdown",
   "metadata": {},
   "source": [
    "# BINOMIAL DISTRIBUTION"
   ]
  },
  {
   "cell_type": "code",
   "execution_count": 37,
   "metadata": {},
   "outputs": [],
   "source": [
    "import numpy as np\n",
    "import scipy.stats as stats\n",
    "import matplotlib.pyplot as plt\n",
    "%matplotlib inline"
   ]
  },
  {
   "cell_type": "markdown",
   "metadata": {},
   "source": [
    "# PROBLEM-1\n",
    "n=7 (no of trials)\n",
    "P(success)=0.6\n",
    "Construct B.D. prob of all a/cs paying on time"
   ]
  },
  {
   "cell_type": "code",
   "execution_count": 38,
   "metadata": {},
   "outputs": [],
   "source": [
    "n=7\n",
    "p=0.6\n",
    "k=np.arange(0,8) #creating an array of number from 0 to 7"
   ]
  },
  {
   "cell_type": "code",
   "execution_count": 39,
   "metadata": {},
   "outputs": [
    {
     "data": {
      "text/plain": [
       "array([0.0016384, 0.0172032, 0.0774144, 0.193536 , 0.290304 , 0.2612736,\n",
       "       0.1306368, 0.0279936])"
      ]
     },
     "execution_count": 39,
     "metadata": {},
     "output_type": "execute_result"
    }
   ],
   "source": [
    "binomial=stats.binom.pmf(k,n,p)\n",
    "binomial\n",
    "#if we add the probabilities, total will turn out to be 1"
   ]
  },
  {
   "cell_type": "code",
   "execution_count": 44,
   "metadata": {},
   "outputs": [
    {
     "data": {
      "text/plain": [
       "Text(0, 0.5, 'prob of successes')"
      ]
     },
     "execution_count": 44,
     "metadata": {},
     "output_type": "execute_result"
    },
    {
     "data": {
      "image/png": "[encoded data removed]",
      "text/plain": [
       "<Figure size 432x288 with 1 Axes>"
      ]
     },
     "metadata": {
      "needs_background": "light"
     },
     "output_type": "display_data"
    }
   ],
   "source": [
    "plt.plot(k,binomial,'o-');\n",
    "plt.title('binomial: n=%i p=%.2f' % (n,p),fontsize=15)\n",
    "plt.xlabel('no of successes')\n",
    "plt.ylabel('prob of successes')\n",
    "#there is an increase then peak at a particular point the again falls down\n",
    "#the point where it is peaked i.e., 4 is nothing but the out of 7 customer, 4 customer turns out to pay credit card bills on time\n",
    "#there is a 19.39% chance that customers will pay on time"
   ]
  },
  {
   "cell_type": "code",
   "execution_count": 47,
   "metadata": {},
   "outputs": [
    {
     "data": {
      "text/plain": [
       "array([0.0016384, 0.0188416, 0.096256 , 0.289792 , 0.580096 , 0.8413696,\n",
       "       0.9720064, 1.       ])"
      ]
     },
     "execution_count": 47,
     "metadata": {},
     "output_type": "execute_result"
    }
   ],
   "source": [
    "#Cummulative Binomial Probability\n",
    "cumm_bin=stats.binom.cdf(k,n,p)\n",
    "cumm_bin"
   ]
  },
  {
   "cell_type": "code",
   "execution_count": 48,
   "metadata": {},
   "outputs": [],
   "source": [
    "import numpy as np\n",
    "import scipy.stats as stats\n",
    "import matplotlib.pyplot as plt\n",
    "%matplotlib inline"
   ]
  },
  {
   "cell_type": "markdown",
   "metadata": {},
   "source": [
    "# PROBLEM-2 \n",
    "P(success)=0.10\n",
    "n=100\n",
    "Construct Binomial prob dist that are defective out of the 100"
   ]
  },
  {
   "cell_type": "code",
   "execution_count": 49,
   "metadata": {},
   "outputs": [],
   "source": [
    "p=0.1\n",
    "n=100\n",
    "k=np.arange(0,101)"
   ]
  },
  {
   "cell_type": "code",
   "execution_count": 50,
   "metadata": {},
   "outputs": [
    {
     "data": {
      "text/plain": [
       "array([2.65613989e-005, 2.95126654e-004, 1.62319660e-003, 5.89160247e-003,\n",
       "       1.58745955e-002, 3.38658038e-002, 5.95787289e-002, 8.88952464e-002,\n",
       "       1.14823027e-001, 1.30416277e-001, 1.31865347e-001, 1.19877588e-001,\n",
       "       9.87880124e-002, 7.43020948e-002, 5.13038273e-002, 3.26824382e-002,\n",
       "       1.92917170e-002, 1.05915309e-002, 5.42652508e-003, 2.60219331e-003,\n",
       "       1.17098699e-003, 4.95655869e-004, 1.97761685e-004, 7.45188959e-005,\n",
       "       2.65646064e-005, 8.97293372e-006, 2.87594029e-006, 8.75800748e-007,\n",
       "       2.53704185e-007, 6.99873614e-008, 1.84040839e-008, 4.61751209e-009,\n",
       "       1.10627894e-009, 2.53289454e-010, 5.54588020e-011, 1.16199395e-011,\n",
       "       2.33116070e-012, 4.48030885e-013, 8.25320051e-014, 1.45783029e-014,\n",
       "       2.47021243e-015, 4.01660558e-016, 6.26930501e-017, 9.39585764e-018,\n",
       "       1.35243405e-018, 1.87003227e-019, 2.48434239e-020, 3.17150093e-021,\n",
       "       3.89096178e-022, 4.58798215e-023, 5.19971310e-024, 5.66417549e-025,\n",
       "       5.93044015e-026, 5.96773852e-027, 5.77126976e-028, 5.36320018e-029,\n",
       "       4.78857159e-030, 4.10715692e-031, 3.38329018e-032, 2.67604873e-033,\n",
       "       2.03181478e-034, 1.48037507e-035, 1.03467074e-036, 6.93430129e-038,\n",
       "       4.45432548e-039, 2.74112337e-040, 1.61514003e-041, 9.10692557e-043,\n",
       "       4.91059712e-044, 2.53042042e-045, 1.24512751e-046, 5.84566904e-048,\n",
       "       2.61611732e-049, 1.11493584e-050, 4.52001018e-052, 1.74104096e-053,\n",
       "       6.36345379e-055, 2.20379352e-056, 7.22040612e-058, 2.23416223e-059,\n",
       "       6.51630651e-061, 1.78773841e-062, 4.60257857e-064, 1.10905508e-065,\n",
       "       2.49390692e-067, 5.21601447e-069, 1.01085552e-070, 1.80740450e-072,\n",
       "       2.96669931e-074, 4.44449334e-076, 6.03573170e-078, 7.36963577e-080,\n",
       "       8.01047367e-082, 7.65636671e-084, 6.33505520e-086, 4.44565277e-088,\n",
       "       2.57271572e-090, 1.17879300e-092, 4.00950000e-095, 9.00000000e-098,\n",
       "       1.00000000e-100])"
      ]
     },
     "execution_count": 50,
     "metadata": {},
     "output_type": "execute_result"
    }
   ],
   "source": [
    "binomial=stats.binom.pmf(k,n,p)\n",
    "binomial"
   ]
  },
  {
   "cell_type": "code",
   "execution_count": 51,
   "metadata": {},
   "outputs": [
    {
     "data": {
      "text/plain": [
       "Text(0, 0.5, 'prob of defective laptops')"
      ]
     },
     "execution_count": 51,
     "metadata": {},
     "output_type": "execute_result"
    },
    {
     "data": {
      "image/png": "[encoded data removed]",
      "text/plain": [
       "<Figure size 432x288 with 1 Axes>"
      ]
     },
     "metadata": {
      "needs_background": "light"
     },
     "output_type": "display_data"
    }
   ],
   "source": [
    "plt.plot(k,binomial,'o-')\n",
    "plt.title('Binomial')\n",
    "plt.xlabel('no of def laptop')\n",
    "plt.ylabel('prob of defective laptops')"
   ]
  },
  {
   "cell_type": "code",
   "execution_count": null,
   "metadata": {},
   "outputs": [],
   "source": []
  }
 ],
 "metadata": {
  "kernelspec": {
   "display_name": "Python 3",
   "language": "python",
   "name": "python3"
  },
  "language_info": {
   "codemirror_mode": {
    "name": "ipython",
    "version": 3
   },
   "file_extension": ".py",
   "mimetype": "text/x-python",
   "name": "python",
   "nbconvert_exporter": "python",
   "pygments_lexer": "ipython3",
   "version": "3.7.6"
  }
 },
 "nbformat": 4,
 "nbformat_minor": 4
}
